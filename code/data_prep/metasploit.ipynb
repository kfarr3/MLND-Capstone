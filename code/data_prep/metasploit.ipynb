{
 "cells": [
  {
   "cell_type": "markdown",
   "metadata": {},
   "source": [
    "# Purpose\n",
    "\n",
    "To download the metasploit JSON file and add a column to the CVE processed JSON file indicating for which CVEs there is a known metasploit exploit"
   ]
  },
  {
   "cell_type": "code",
   "execution_count": 50,
   "metadata": {
    "collapsed": true
   },
   "outputs": [],
   "source": [
    "import urllib.request\n",
    "import json\n",
    "import re\n",
    "import pandas as pd"
   ]
  },
  {
   "cell_type": "code",
   "execution_count": 69,
   "metadata": {
    "collapsed": true
   },
   "outputs": [],
   "source": [
    "FILE_LOC = 'https://raw.githubusercontent.com/rapid7/metasploit-framework/master/db/modules_metadata_base.json'\n",
    "METASPLOIT_RAW = '../../data/raw/metasploit.json'\n",
    "CVE_PROCESSED = '../../data/processed/cves.json'\n",
    "CVE_METASPLOIT_PROCESSED = '../../data/processed/cves_metasploit.json'"
   ]
  },
  {
   "cell_type": "code",
   "execution_count": 20,
   "metadata": {},
   "outputs": [
    {
     "name": "stdout",
     "output_type": "stream",
     "text": [
      "wrote metasploit.json\n"
     ]
    }
   ],
   "source": [
    "response = urllib.request.urlopen(FILE_LOC)\n",
    "raw_file =  response.read()\n",
    "\n",
    "with open(METASPLOIT_RAW, 'wb') as fout:\n",
    "    fout.write(raw_file)\n",
    "print(\"wrote metasploit.json\")"
   ]
  },
  {
   "cell_type": "code",
   "execution_count": 40,
   "metadata": {
    "collapsed": true
   },
   "outputs": [],
   "source": [
    "# read metasploit file\n",
    "with open(METASPLOIT_RAW, 'r') as fin:\n",
    "    metasploit = json.loads(fin.read())"
   ]
  },
  {
   "cell_type": "code",
   "execution_count": 51,
   "metadata": {},
   "outputs": [
    {
     "data": {
      "text/html": [
       "<div>\n",
       "<style scoped>\n",
       "    .dataframe tbody tr th:only-of-type {\n",
       "        vertical-align: middle;\n",
       "    }\n",
       "\n",
       "    .dataframe tbody tr th {\n",
       "        vertical-align: top;\n",
       "    }\n",
       "\n",
       "    .dataframe thead th {\n",
       "        text-align: right;\n",
       "    }\n",
       "</style>\n",
       "<table border=\"1\" class=\"dataframe\">\n",
       "  <thead>\n",
       "    <tr style=\"text-align: right;\">\n",
       "      <th></th>\n",
       "      <th>access</th>\n",
       "      <th>authentication</th>\n",
       "      <th>availability</th>\n",
       "      <th>complexity</th>\n",
       "      <th>confidentiality</th>\n",
       "      <th>id</th>\n",
       "      <th>integrity</th>\n",
       "      <th>metasploit</th>\n",
       "    </tr>\n",
       "  </thead>\n",
       "  <tbody>\n",
       "    <tr>\n",
       "      <th>0</th>\n",
       "      <td>NETWORK</td>\n",
       "      <td>NONE</td>\n",
       "      <td>PARTIAL</td>\n",
       "      <td>LOW</td>\n",
       "      <td>NONE</td>\n",
       "      <td>CVE-1999-0001</td>\n",
       "      <td>NONE</td>\n",
       "      <td>0</td>\n",
       "    </tr>\n",
       "    <tr>\n",
       "      <th>1</th>\n",
       "      <td>NETWORK</td>\n",
       "      <td>NONE</td>\n",
       "      <td>COMPLETE</td>\n",
       "      <td>LOW</td>\n",
       "      <td>COMPLETE</td>\n",
       "      <td>CVE-1999-0002</td>\n",
       "      <td>COMPLETE</td>\n",
       "      <td>0</td>\n",
       "    </tr>\n",
       "    <tr>\n",
       "      <th>2</th>\n",
       "      <td>NETWORK</td>\n",
       "      <td>NONE</td>\n",
       "      <td>COMPLETE</td>\n",
       "      <td>LOW</td>\n",
       "      <td>COMPLETE</td>\n",
       "      <td>CVE-1999-0003</td>\n",
       "      <td>COMPLETE</td>\n",
       "      <td>0</td>\n",
       "    </tr>\n",
       "    <tr>\n",
       "      <th>3</th>\n",
       "      <td>NETWORK</td>\n",
       "      <td>NONE</td>\n",
       "      <td>PARTIAL</td>\n",
       "      <td>LOW</td>\n",
       "      <td>NONE</td>\n",
       "      <td>CVE-1999-0004</td>\n",
       "      <td>NONE</td>\n",
       "      <td>0</td>\n",
       "    </tr>\n",
       "    <tr>\n",
       "      <th>4</th>\n",
       "      <td>NETWORK</td>\n",
       "      <td>NONE</td>\n",
       "      <td>COMPLETE</td>\n",
       "      <td>LOW</td>\n",
       "      <td>COMPLETE</td>\n",
       "      <td>CVE-1999-0005</td>\n",
       "      <td>COMPLETE</td>\n",
       "      <td>0</td>\n",
       "    </tr>\n",
       "  </tbody>\n",
       "</table>\n",
       "</div>"
      ],
      "text/plain": [
       "    access authentication availability complexity confidentiality  \\\n",
       "0  NETWORK           NONE      PARTIAL        LOW            NONE   \n",
       "1  NETWORK           NONE     COMPLETE        LOW        COMPLETE   \n",
       "2  NETWORK           NONE     COMPLETE        LOW        COMPLETE   \n",
       "3  NETWORK           NONE      PARTIAL        LOW            NONE   \n",
       "4  NETWORK           NONE     COMPLETE        LOW        COMPLETE   \n",
       "\n",
       "              id integrity  metasploit  \n",
       "0  CVE-1999-0001      NONE           0  \n",
       "1  CVE-1999-0002  COMPLETE           0  \n",
       "2  CVE-1999-0003  COMPLETE           0  \n",
       "3  CVE-1999-0004      NONE           0  \n",
       "4  CVE-1999-0005  COMPLETE           0  "
      ]
     },
     "execution_count": 51,
     "metadata": {},
     "output_type": "execute_result"
    }
   ],
   "source": [
    "# read cve file as pandas\n",
    "cves_df = pd.read_json(CVE_PROCESSED)\n",
    "    \n",
    "# add metasploit column set to 0\n",
    "cves_df['metasploit'] = 0\n",
    "\n",
    "cves_df.head()"
   ]
  },
  {
   "cell_type": "code",
   "execution_count": 70,
   "metadata": {},
   "outputs": [
    {
     "name": "stdout",
     "output_type": "stream",
     "text": [
      "100.00 Complete..."
     ]
    }
   ],
   "source": [
    "cve_regx = re.compile(r'CVE-\\d{4}-\\d{4,7}')\n",
    "total = len(metasploit)\n",
    "count = 0\n",
    "for key, item in metasploit.items():\n",
    "    for reference in item['references']:\n",
    "        match = cve_regx.match(reference)\n",
    "        if match:\n",
    "            matched_cve = match.group()\n",
    "            cves_df.loc[cves_df['id']==matched_cve, 'metasploit'] = 1\n",
    "            \n",
    "    count += 1\n",
    "    print(\"\\r{0:.2f} Complete...\".format(count*100/total), end='')"
   ]
  },
  {
   "cell_type": "code",
   "execution_count": 67,
   "metadata": {},
   "outputs": [
    {
     "data": {
      "text/html": [
       "<div>\n",
       "<style scoped>\n",
       "    .dataframe tbody tr th:only-of-type {\n",
       "        vertical-align: middle;\n",
       "    }\n",
       "\n",
       "    .dataframe tbody tr th {\n",
       "        vertical-align: top;\n",
       "    }\n",
       "\n",
       "    .dataframe thead th {\n",
       "        text-align: right;\n",
       "    }\n",
       "</style>\n",
       "<table border=\"1\" class=\"dataframe\">\n",
       "  <thead>\n",
       "    <tr style=\"text-align: right;\">\n",
       "      <th></th>\n",
       "      <th>access</th>\n",
       "      <th>authentication</th>\n",
       "      <th>availability</th>\n",
       "      <th>complexity</th>\n",
       "      <th>confidentiality</th>\n",
       "      <th>id</th>\n",
       "      <th>integrity</th>\n",
       "      <th>metasploit</th>\n",
       "    </tr>\n",
       "  </thead>\n",
       "  <tbody>\n",
       "    <tr>\n",
       "      <th>0</th>\n",
       "      <td>NETWORK</td>\n",
       "      <td>NONE</td>\n",
       "      <td>PARTIAL</td>\n",
       "      <td>LOW</td>\n",
       "      <td>NONE</td>\n",
       "      <td>CVE-1999-0001</td>\n",
       "      <td>NONE</td>\n",
       "      <td>0</td>\n",
       "    </tr>\n",
       "    <tr>\n",
       "      <th>1</th>\n",
       "      <td>NETWORK</td>\n",
       "      <td>NONE</td>\n",
       "      <td>COMPLETE</td>\n",
       "      <td>LOW</td>\n",
       "      <td>COMPLETE</td>\n",
       "      <td>CVE-1999-0002</td>\n",
       "      <td>COMPLETE</td>\n",
       "      <td>0</td>\n",
       "    </tr>\n",
       "    <tr>\n",
       "      <th>2</th>\n",
       "      <td>NETWORK</td>\n",
       "      <td>NONE</td>\n",
       "      <td>COMPLETE</td>\n",
       "      <td>LOW</td>\n",
       "      <td>COMPLETE</td>\n",
       "      <td>CVE-1999-0003</td>\n",
       "      <td>COMPLETE</td>\n",
       "      <td>0</td>\n",
       "    </tr>\n",
       "    <tr>\n",
       "      <th>3</th>\n",
       "      <td>NETWORK</td>\n",
       "      <td>NONE</td>\n",
       "      <td>PARTIAL</td>\n",
       "      <td>LOW</td>\n",
       "      <td>NONE</td>\n",
       "      <td>CVE-1999-0004</td>\n",
       "      <td>NONE</td>\n",
       "      <td>0</td>\n",
       "    </tr>\n",
       "    <tr>\n",
       "      <th>4</th>\n",
       "      <td>NETWORK</td>\n",
       "      <td>NONE</td>\n",
       "      <td>COMPLETE</td>\n",
       "      <td>LOW</td>\n",
       "      <td>COMPLETE</td>\n",
       "      <td>CVE-1999-0005</td>\n",
       "      <td>COMPLETE</td>\n",
       "      <td>0</td>\n",
       "    </tr>\n",
       "  </tbody>\n",
       "</table>\n",
       "</div>"
      ],
      "text/plain": [
       "    access authentication availability complexity confidentiality  \\\n",
       "0  NETWORK           NONE      PARTIAL        LOW            NONE   \n",
       "1  NETWORK           NONE     COMPLETE        LOW        COMPLETE   \n",
       "2  NETWORK           NONE     COMPLETE        LOW        COMPLETE   \n",
       "3  NETWORK           NONE      PARTIAL        LOW            NONE   \n",
       "4  NETWORK           NONE     COMPLETE        LOW        COMPLETE   \n",
       "\n",
       "              id integrity  metasploit  \n",
       "0  CVE-1999-0001      NONE           0  \n",
       "1  CVE-1999-0002  COMPLETE           0  \n",
       "2  CVE-1999-0003  COMPLETE           0  \n",
       "3  CVE-1999-0004      NONE           0  \n",
       "4  CVE-1999-0005  COMPLETE           0  "
      ]
     },
     "execution_count": 67,
     "metadata": {},
     "output_type": "execute_result"
    }
   ],
   "source": [
    "cves_df.head()"
   ]
  },
  {
   "cell_type": "code",
   "execution_count": 71,
   "metadata": {
    "collapsed": true
   },
   "outputs": [],
   "source": [
    "out = cves_df.to_json(orient='records')\n",
    "with open(CVE_METASPLOIT_PROCESSED, 'w') as fout:\n",
    "    fout.write(out)\n"
   ]
  }
 ],
 "metadata": {
  "kernelspec": {
   "display_name": "Python (capstone)",
   "language": "python",
   "name": "capstone"
  },
  "language_info": {
   "codemirror_mode": {
    "name": "ipython",
    "version": 3
   },
   "file_extension": ".py",
   "mimetype": "text/x-python",
   "name": "python",
   "nbconvert_exporter": "python",
   "pygments_lexer": "ipython3",
   "version": "3.7.0"
  }
 },
 "nbformat": 4,
 "nbformat_minor": 2
}
