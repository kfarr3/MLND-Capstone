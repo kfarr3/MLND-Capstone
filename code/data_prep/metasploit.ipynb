{
 "cells": [
  {
   "cell_type": "markdown",
   "metadata": {},
   "source": [
    "# Purpose\n",
    "\n",
    "To download the metasploit JSON file and add a column to the CVE processed JSON file indicating for which CVEs there is a known metasploit exploit"
   ]
  },
  {
   "cell_type": "code",
   "execution_count": 3,
   "metadata": {},
   "outputs": [],
   "source": [
    "import urllib.request\n",
    "import json\n",
    "import re\n",
    "import pandas as pd\n",
    "import numpy as np\n",
    "import datetime\n",
    "import dateutil\n",
    "from scipy.stats import ttest_rel\n",
    "from sklearn import preprocessing\n",
    "\n",
    "\n",
    "import matplotlib.pyplot as plt\n",
    "%matplotlib inline"
   ]
  },
  {
   "cell_type": "code",
   "execution_count": 4,
   "metadata": {},
   "outputs": [],
   "source": [
    "FILE_LOC = 'https://raw.githubusercontent.com/rapid7/metasploit-framework/master/db/modules_metadata_base.json'\n",
    "METASPLOIT_RAW = '../../data/raw/metasploit.json'\n",
    "CVE_PROCESSED = '../../data/processed/cves.json'\n",
    "CVE_METASPLOIT_PROCESSED = '../../data/processed/cves_metasploit.json'"
   ]
  },
  {
   "cell_type": "code",
   "execution_count": 5,
   "metadata": {},
   "outputs": [
    {
     "name": "stdout",
     "output_type": "stream",
     "text": [
      "wrote metasploit.json\n"
     ]
    }
   ],
   "source": [
    "# Download metasploit if needed\n",
    "response = urllib.request.urlopen(FILE_LOC)\n",
    "raw_file =  response.read()\n",
    "\n",
    "with open(METASPLOIT_RAW, 'wb') as fout:\n",
    "    fout.write(raw_file)\n",
    "print(\"wrote metasploit.json\")"
   ]
  },
  {
   "cell_type": "code",
   "execution_count": 10,
   "metadata": {},
   "outputs": [],
   "source": [
    "# read metasploit file\n",
    "with open(METASPLOIT_RAW, 'r', encoding=\"utf8\") as fin:\n",
    "    metasploit = json.loads(fin.read())"
   ]
  },
  {
   "cell_type": "code",
   "execution_count": 11,
   "metadata": {},
   "outputs": [
    {
     "data": {
      "text/html": [
       "<div>\n",
       "<style scoped>\n",
       "    .dataframe tbody tr th:only-of-type {\n",
       "        vertical-align: middle;\n",
       "    }\n",
       "\n",
       "    .dataframe tbody tr th {\n",
       "        vertical-align: top;\n",
       "    }\n",
       "\n",
       "    .dataframe thead th {\n",
       "        text-align: right;\n",
       "    }\n",
       "</style>\n",
       "<table border=\"1\" class=\"dataframe\">\n",
       "  <thead>\n",
       "    <tr style=\"text-align: right;\">\n",
       "      <th></th>\n",
       "      <th>id</th>\n",
       "      <th>date</th>\n",
       "      <th>v2</th>\n",
       "      <th>v3</th>\n",
       "      <th>access</th>\n",
       "      <th>complexity</th>\n",
       "      <th>authentication</th>\n",
       "      <th>confidentiality</th>\n",
       "      <th>integrity</th>\n",
       "      <th>availability</th>\n",
       "    </tr>\n",
       "  </thead>\n",
       "  <tbody>\n",
       "    <tr>\n",
       "      <th>0</th>\n",
       "      <td>CVE-1999-0001</td>\n",
       "      <td>1999-12-30</td>\n",
       "      <td>1</td>\n",
       "      <td>0</td>\n",
       "      <td>NETWORK</td>\n",
       "      <td>LOW</td>\n",
       "      <td>NONE</td>\n",
       "      <td>NONE</td>\n",
       "      <td>NONE</td>\n",
       "      <td>LOW</td>\n",
       "    </tr>\n",
       "    <tr>\n",
       "      <th>1</th>\n",
       "      <td>CVE-1999-0002</td>\n",
       "      <td>1998-10-12</td>\n",
       "      <td>1</td>\n",
       "      <td>0</td>\n",
       "      <td>NETWORK</td>\n",
       "      <td>LOW</td>\n",
       "      <td>NONE</td>\n",
       "      <td>HIGH</td>\n",
       "      <td>HIGH</td>\n",
       "      <td>HIGH</td>\n",
       "    </tr>\n",
       "    <tr>\n",
       "      <th>2</th>\n",
       "      <td>CVE-1999-0003</td>\n",
       "      <td>1998-04-01</td>\n",
       "      <td>1</td>\n",
       "      <td>0</td>\n",
       "      <td>NETWORK</td>\n",
       "      <td>LOW</td>\n",
       "      <td>NONE</td>\n",
       "      <td>HIGH</td>\n",
       "      <td>HIGH</td>\n",
       "      <td>HIGH</td>\n",
       "    </tr>\n",
       "    <tr>\n",
       "      <th>3</th>\n",
       "      <td>CVE-1999-0004</td>\n",
       "      <td>1997-12-16</td>\n",
       "      <td>1</td>\n",
       "      <td>0</td>\n",
       "      <td>NETWORK</td>\n",
       "      <td>LOW</td>\n",
       "      <td>NONE</td>\n",
       "      <td>NONE</td>\n",
       "      <td>NONE</td>\n",
       "      <td>LOW</td>\n",
       "    </tr>\n",
       "    <tr>\n",
       "      <th>4</th>\n",
       "      <td>CVE-1999-0005</td>\n",
       "      <td>1998-07-20</td>\n",
       "      <td>1</td>\n",
       "      <td>0</td>\n",
       "      <td>NETWORK</td>\n",
       "      <td>LOW</td>\n",
       "      <td>NONE</td>\n",
       "      <td>HIGH</td>\n",
       "      <td>HIGH</td>\n",
       "      <td>HIGH</td>\n",
       "    </tr>\n",
       "  </tbody>\n",
       "</table>\n",
       "</div>"
      ],
      "text/plain": [
       "              id       date  v2  v3   access complexity authentication  \\\n",
       "0  CVE-1999-0001 1999-12-30   1   0  NETWORK        LOW           NONE   \n",
       "1  CVE-1999-0002 1998-10-12   1   0  NETWORK        LOW           NONE   \n",
       "2  CVE-1999-0003 1998-04-01   1   0  NETWORK        LOW           NONE   \n",
       "3  CVE-1999-0004 1997-12-16   1   0  NETWORK        LOW           NONE   \n",
       "4  CVE-1999-0005 1998-07-20   1   0  NETWORK        LOW           NONE   \n",
       "\n",
       "  confidentiality integrity availability  \n",
       "0            NONE      NONE          LOW  \n",
       "1            HIGH      HIGH         HIGH  \n",
       "2            HIGH      HIGH         HIGH  \n",
       "3            NONE      NONE          LOW  \n",
       "4            HIGH      HIGH         HIGH  "
      ]
     },
     "metadata": {},
     "output_type": "display_data"
    },
    {
     "data": {
      "text/html": [
       "<div>\n",
       "<style scoped>\n",
       "    .dataframe tbody tr th:only-of-type {\n",
       "        vertical-align: middle;\n",
       "    }\n",
       "\n",
       "    .dataframe tbody tr th {\n",
       "        vertical-align: top;\n",
       "    }\n",
       "\n",
       "    .dataframe thead th {\n",
       "        text-align: right;\n",
       "    }\n",
       "</style>\n",
       "<table border=\"1\" class=\"dataframe\">\n",
       "  <thead>\n",
       "    <tr style=\"text-align: right;\">\n",
       "      <th></th>\n",
       "      <th>id</th>\n",
       "      <th>date</th>\n",
       "      <th>v2</th>\n",
       "      <th>v3</th>\n",
       "      <th>access</th>\n",
       "      <th>complexity</th>\n",
       "      <th>authentication</th>\n",
       "      <th>confidentiality</th>\n",
       "      <th>integrity</th>\n",
       "      <th>availability</th>\n",
       "      <th>metasploit</th>\n",
       "      <th>metasploit_date</th>\n",
       "    </tr>\n",
       "  </thead>\n",
       "  <tbody>\n",
       "    <tr>\n",
       "      <th>0</th>\n",
       "      <td>CVE-1999-0001</td>\n",
       "      <td>1999-12-30</td>\n",
       "      <td>1</td>\n",
       "      <td>0</td>\n",
       "      <td>NETWORK</td>\n",
       "      <td>LOW</td>\n",
       "      <td>NONE</td>\n",
       "      <td>NONE</td>\n",
       "      <td>NONE</td>\n",
       "      <td>LOW</td>\n",
       "      <td>0</td>\n",
       "      <td></td>\n",
       "    </tr>\n",
       "    <tr>\n",
       "      <th>1</th>\n",
       "      <td>CVE-1999-0002</td>\n",
       "      <td>1998-10-12</td>\n",
       "      <td>1</td>\n",
       "      <td>0</td>\n",
       "      <td>NETWORK</td>\n",
       "      <td>LOW</td>\n",
       "      <td>NONE</td>\n",
       "      <td>HIGH</td>\n",
       "      <td>HIGH</td>\n",
       "      <td>HIGH</td>\n",
       "      <td>0</td>\n",
       "      <td></td>\n",
       "    </tr>\n",
       "    <tr>\n",
       "      <th>2</th>\n",
       "      <td>CVE-1999-0003</td>\n",
       "      <td>1998-04-01</td>\n",
       "      <td>1</td>\n",
       "      <td>0</td>\n",
       "      <td>NETWORK</td>\n",
       "      <td>LOW</td>\n",
       "      <td>NONE</td>\n",
       "      <td>HIGH</td>\n",
       "      <td>HIGH</td>\n",
       "      <td>HIGH</td>\n",
       "      <td>0</td>\n",
       "      <td></td>\n",
       "    </tr>\n",
       "    <tr>\n",
       "      <th>3</th>\n",
       "      <td>CVE-1999-0004</td>\n",
       "      <td>1997-12-16</td>\n",
       "      <td>1</td>\n",
       "      <td>0</td>\n",
       "      <td>NETWORK</td>\n",
       "      <td>LOW</td>\n",
       "      <td>NONE</td>\n",
       "      <td>NONE</td>\n",
       "      <td>NONE</td>\n",
       "      <td>LOW</td>\n",
       "      <td>0</td>\n",
       "      <td></td>\n",
       "    </tr>\n",
       "    <tr>\n",
       "      <th>4</th>\n",
       "      <td>CVE-1999-0005</td>\n",
       "      <td>1998-07-20</td>\n",
       "      <td>1</td>\n",
       "      <td>0</td>\n",
       "      <td>NETWORK</td>\n",
       "      <td>LOW</td>\n",
       "      <td>NONE</td>\n",
       "      <td>HIGH</td>\n",
       "      <td>HIGH</td>\n",
       "      <td>HIGH</td>\n",
       "      <td>0</td>\n",
       "      <td></td>\n",
       "    </tr>\n",
       "  </tbody>\n",
       "</table>\n",
       "</div>"
      ],
      "text/plain": [
       "              id       date  v2  v3   access complexity authentication  \\\n",
       "0  CVE-1999-0001 1999-12-30   1   0  NETWORK        LOW           NONE   \n",
       "1  CVE-1999-0002 1998-10-12   1   0  NETWORK        LOW           NONE   \n",
       "2  CVE-1999-0003 1998-04-01   1   0  NETWORK        LOW           NONE   \n",
       "3  CVE-1999-0004 1997-12-16   1   0  NETWORK        LOW           NONE   \n",
       "4  CVE-1999-0005 1998-07-20   1   0  NETWORK        LOW           NONE   \n",
       "\n",
       "  confidentiality integrity availability  metasploit metasploit_date  \n",
       "0            NONE      NONE          LOW           0                  \n",
       "1            HIGH      HIGH         HIGH           0                  \n",
       "2            HIGH      HIGH         HIGH           0                  \n",
       "3            NONE      NONE          LOW           0                  \n",
       "4            HIGH      HIGH         HIGH           0                  "
      ]
     },
     "execution_count": 11,
     "metadata": {},
     "output_type": "execute_result"
    }
   ],
   "source": [
    "# read cve file as pandas\n",
    "cves_df = pd.read_json(CVE_PROCESSED)\n",
    "display(cves_df.head())\n",
    "\n",
    "# add metasploit column set to 0\n",
    "cves_df['metasploit'] = 0\n",
    "cves_df['metasploit_date'] = ''\n",
    "\n",
    "cves_df.head()"
   ]
  },
  {
   "cell_type": "code",
   "execution_count": 12,
   "metadata": {},
   "outputs": [
    {
     "data": {
      "text/plain": [
       "NETWORK     103468\n",
       "LOCAL        22002\n",
       "ADJACENT      2880\n",
       "Name: access, dtype: int64"
      ]
     },
     "execution_count": 12,
     "metadata": {},
     "output_type": "execute_result"
    }
   ],
   "source": [
    "cves_df['access'].value_counts()"
   ]
  },
  {
   "cell_type": "code",
   "execution_count": 13,
   "metadata": {},
   "outputs": [
    {
     "name": "stdout",
     "output_type": "stream",
     "text": [
      "100.00 Complete..."
     ]
    }
   ],
   "source": [
    "# Search metasploit's db for CVE references and set the metasploit and metasploit_date if matched\n",
    "cve_regx = re.compile(r'CVE-\\d{4}-\\d{4,7}')\n",
    "total = len(metasploit)\n",
    "count = 0\n",
    "for key, item in metasploit.items():\n",
    "    for reference in item['references']:\n",
    "        match = cve_regx.match(reference)\n",
    "        if match:\n",
    "            matched_cve = match.group()\n",
    "            matched = cves_df.loc[cves_df['id']==matched_cve, ['metasploit', 'metasploit_date']] = 1, item['disclosure_date']\n",
    "            \n",
    "    count += 1\n",
    "    print(\"\\r{0:.2f} Complete...\".format(count*100/total), end='')"
   ]
  },
  {
   "cell_type": "code",
   "execution_count": 14,
   "metadata": {},
   "outputs": [
    {
     "data": {
      "text/html": [
       "<div>\n",
       "<style scoped>\n",
       "    .dataframe tbody tr th:only-of-type {\n",
       "        vertical-align: middle;\n",
       "    }\n",
       "\n",
       "    .dataframe tbody tr th {\n",
       "        vertical-align: top;\n",
       "    }\n",
       "\n",
       "    .dataframe thead th {\n",
       "        text-align: right;\n",
       "    }\n",
       "</style>\n",
       "<table border=\"1\" class=\"dataframe\">\n",
       "  <thead>\n",
       "    <tr style=\"text-align: right;\">\n",
       "      <th></th>\n",
       "      <th>id</th>\n",
       "      <th>access</th>\n",
       "      <th>complexity</th>\n",
       "      <th>authentication</th>\n",
       "      <th>confidentiality</th>\n",
       "      <th>integrity</th>\n",
       "      <th>availability</th>\n",
       "      <th>metasploit</th>\n",
       "    </tr>\n",
       "  </thead>\n",
       "  <tbody>\n",
       "    <tr>\n",
       "      <th>0</th>\n",
       "      <td>CVE-1999-0001</td>\n",
       "      <td>NETWORK</td>\n",
       "      <td>LOW</td>\n",
       "      <td>NONE</td>\n",
       "      <td>NONE</td>\n",
       "      <td>NONE</td>\n",
       "      <td>LOW</td>\n",
       "      <td>0</td>\n",
       "    </tr>\n",
       "    <tr>\n",
       "      <th>1</th>\n",
       "      <td>CVE-1999-0002</td>\n",
       "      <td>NETWORK</td>\n",
       "      <td>LOW</td>\n",
       "      <td>NONE</td>\n",
       "      <td>HIGH</td>\n",
       "      <td>HIGH</td>\n",
       "      <td>HIGH</td>\n",
       "      <td>0</td>\n",
       "    </tr>\n",
       "    <tr>\n",
       "      <th>2</th>\n",
       "      <td>CVE-1999-0003</td>\n",
       "      <td>NETWORK</td>\n",
       "      <td>LOW</td>\n",
       "      <td>NONE</td>\n",
       "      <td>HIGH</td>\n",
       "      <td>HIGH</td>\n",
       "      <td>HIGH</td>\n",
       "      <td>0</td>\n",
       "    </tr>\n",
       "    <tr>\n",
       "      <th>3</th>\n",
       "      <td>CVE-1999-0004</td>\n",
       "      <td>NETWORK</td>\n",
       "      <td>LOW</td>\n",
       "      <td>NONE</td>\n",
       "      <td>NONE</td>\n",
       "      <td>NONE</td>\n",
       "      <td>LOW</td>\n",
       "      <td>0</td>\n",
       "    </tr>\n",
       "    <tr>\n",
       "      <th>4</th>\n",
       "      <td>CVE-1999-0005</td>\n",
       "      <td>NETWORK</td>\n",
       "      <td>LOW</td>\n",
       "      <td>NONE</td>\n",
       "      <td>HIGH</td>\n",
       "      <td>HIGH</td>\n",
       "      <td>HIGH</td>\n",
       "      <td>0</td>\n",
       "    </tr>\n",
       "  </tbody>\n",
       "</table>\n",
       "</div>"
      ],
      "text/plain": [
       "              id   access complexity authentication confidentiality integrity  \\\n",
       "0  CVE-1999-0001  NETWORK        LOW           NONE            NONE      NONE   \n",
       "1  CVE-1999-0002  NETWORK        LOW           NONE            HIGH      HIGH   \n",
       "2  CVE-1999-0003  NETWORK        LOW           NONE            HIGH      HIGH   \n",
       "3  CVE-1999-0004  NETWORK        LOW           NONE            NONE      NONE   \n",
       "4  CVE-1999-0005  NETWORK        LOW           NONE            HIGH      HIGH   \n",
       "\n",
       "  availability  metasploit  \n",
       "0          LOW           0  \n",
       "1         HIGH           0  \n",
       "2         HIGH           0  \n",
       "3          LOW           0  \n",
       "4         HIGH           0  "
      ]
     },
     "metadata": {},
     "output_type": "display_data"
    }
   ],
   "source": [
    "out_cves = cves_df.drop(['v2', 'v3', 'date', 'metasploit_date'], axis=1)\n",
    "display(out_cves.head())\n",
    "out = out_cves.to_json(orient='records')\n",
    "with open(CVE_METASPLOIT_PROCESSED, 'w') as fout:\n",
    "    fout.write(out)"
   ]
  },
  {
   "cell_type": "code",
   "execution_count": 15,
   "metadata": {},
   "outputs": [
    {
     "data": {
      "text/html": [
       "<div>\n",
       "<style scoped>\n",
       "    .dataframe tbody tr th:only-of-type {\n",
       "        vertical-align: middle;\n",
       "    }\n",
       "\n",
       "    .dataframe tbody tr th {\n",
       "        vertical-align: top;\n",
       "    }\n",
       "\n",
       "    .dataframe thead th {\n",
       "        text-align: right;\n",
       "    }\n",
       "</style>\n",
       "<table border=\"1\" class=\"dataframe\">\n",
       "  <thead>\n",
       "    <tr style=\"text-align: right;\">\n",
       "      <th></th>\n",
       "      <th>id</th>\n",
       "      <th>v2</th>\n",
       "      <th>v3</th>\n",
       "      <th>access</th>\n",
       "      <th>authentication</th>\n",
       "      <th>complexity</th>\n",
       "      <th>confidentiality</th>\n",
       "      <th>integrity</th>\n",
       "      <th>availability</th>\n",
       "      <th>date</th>\n",
       "      <th>metasploit_date</th>\n",
       "      <th>report_delay</th>\n",
       "      <th>metasploit</th>\n",
       "    </tr>\n",
       "  </thead>\n",
       "  <tbody>\n",
       "    <tr>\n",
       "      <th>0</th>\n",
       "      <td>CVE-1999-0095</td>\n",
       "      <td>1</td>\n",
       "      <td>0</td>\n",
       "      <td>NETWORK</td>\n",
       "      <td>NONE</td>\n",
       "      <td>LOW</td>\n",
       "      <td>HIGH</td>\n",
       "      <td>HIGH</td>\n",
       "      <td>HIGH</td>\n",
       "      <td>1988-10-01</td>\n",
       "      <td>NaT</td>\n",
       "      <td>NaT</td>\n",
       "      <td>0</td>\n",
       "    </tr>\n",
       "    <tr>\n",
       "      <th>1</th>\n",
       "      <td>CVE-1999-0082</td>\n",
       "      <td>1</td>\n",
       "      <td>0</td>\n",
       "      <td>NETWORK</td>\n",
       "      <td>NONE</td>\n",
       "      <td>LOW</td>\n",
       "      <td>HIGH</td>\n",
       "      <td>HIGH</td>\n",
       "      <td>HIGH</td>\n",
       "      <td>1988-11-11</td>\n",
       "      <td>NaT</td>\n",
       "      <td>NaT</td>\n",
       "      <td>0</td>\n",
       "    </tr>\n",
       "    <tr>\n",
       "      <th>2</th>\n",
       "      <td>CVE-1999-1471</td>\n",
       "      <td>1</td>\n",
       "      <td>0</td>\n",
       "      <td>LOCAL</td>\n",
       "      <td>NONE</td>\n",
       "      <td>LOW</td>\n",
       "      <td>HIGH</td>\n",
       "      <td>HIGH</td>\n",
       "      <td>HIGH</td>\n",
       "      <td>1989-01-01</td>\n",
       "      <td>NaT</td>\n",
       "      <td>NaT</td>\n",
       "      <td>0</td>\n",
       "    </tr>\n",
       "    <tr>\n",
       "      <th>3</th>\n",
       "      <td>CVE-1999-1122</td>\n",
       "      <td>1</td>\n",
       "      <td>0</td>\n",
       "      <td>LOCAL</td>\n",
       "      <td>NONE</td>\n",
       "      <td>LOW</td>\n",
       "      <td>LOW</td>\n",
       "      <td>LOW</td>\n",
       "      <td>LOW</td>\n",
       "      <td>1989-07-26</td>\n",
       "      <td>NaT</td>\n",
       "      <td>NaT</td>\n",
       "      <td>0</td>\n",
       "    </tr>\n",
       "    <tr>\n",
       "      <th>4</th>\n",
       "      <td>CVE-1999-1467</td>\n",
       "      <td>1</td>\n",
       "      <td>0</td>\n",
       "      <td>NETWORK</td>\n",
       "      <td>NONE</td>\n",
       "      <td>LOW</td>\n",
       "      <td>HIGH</td>\n",
       "      <td>HIGH</td>\n",
       "      <td>HIGH</td>\n",
       "      <td>1989-10-26</td>\n",
       "      <td>NaT</td>\n",
       "      <td>NaT</td>\n",
       "      <td>0</td>\n",
       "    </tr>\n",
       "  </tbody>\n",
       "</table>\n",
       "</div>"
      ],
      "text/plain": [
       "              id  v2  v3   access authentication complexity confidentiality  \\\n",
       "0  CVE-1999-0095   1   0  NETWORK           NONE        LOW            HIGH   \n",
       "1  CVE-1999-0082   1   0  NETWORK           NONE        LOW            HIGH   \n",
       "2  CVE-1999-1471   1   0    LOCAL           NONE        LOW            HIGH   \n",
       "3  CVE-1999-1122   1   0    LOCAL           NONE        LOW             LOW   \n",
       "4  CVE-1999-1467   1   0  NETWORK           NONE        LOW            HIGH   \n",
       "\n",
       "  integrity availability       date metasploit_date report_delay  metasploit  \n",
       "0      HIGH         HIGH 1988-10-01             NaT          NaT           0  \n",
       "1      HIGH         HIGH 1988-11-11             NaT          NaT           0  \n",
       "2      HIGH         HIGH 1989-01-01             NaT          NaT           0  \n",
       "3       LOW          LOW 1989-07-26             NaT          NaT           0  \n",
       "4      HIGH         HIGH 1989-10-26             NaT          NaT           0  "
      ]
     },
     "execution_count": 15,
     "metadata": {},
     "output_type": "execute_result"
    }
   ],
   "source": [
    "cves_df['date'] = pd.to_datetime(cves_df['date'])\n",
    "cves_df['metasploit_date'] = pd.to_datetime(cves_df['metasploit_date'])\n",
    "cves_df['report_delay'] = cves_df['metasploit_date'] - cves_df['date']\n",
    "\n",
    "cves_df = cves_df[['id', 'v2', 'v3', 'access', 'authentication', 'complexity', 'confidentiality', 'integrity', 'availability', 'date', 'metasploit_date', 'report_delay', 'metasploit']].sort_values('date').reset_index(drop=True)\n",
    "cves_df.head()"
   ]
  },
  {
   "cell_type": "code",
   "execution_count": 16,
   "metadata": {},
   "outputs": [
    {
     "data": {
      "text/plain": [
       "count                         1714\n",
       "mean     -74 days +22:22:32.625437\n",
       "std       408 days 21:40:57.483215\n",
       "min           -3326 days +00:00:00\n",
       "25%             -41 days +06:00:00\n",
       "50%              -5 days +00:00:00\n",
       "75%              -1 days +00:00:00\n",
       "max             4465 days 00:00:00\n",
       "Name: report_delay, dtype: object"
      ]
     },
     "execution_count": 16,
     "metadata": {},
     "output_type": "execute_result"
    }
   ],
   "source": [
    "cves_df[cves_df['metasploit_date'].notnull()]['report_delay'].describe()"
   ]
  },
  {
   "cell_type": "code",
   "execution_count": 17,
   "metadata": {},
   "outputs": [
    {
     "data": {
      "text/html": [
       "<div>\n",
       "<style scoped>\n",
       "    .dataframe tbody tr th:only-of-type {\n",
       "        vertical-align: middle;\n",
       "    }\n",
       "\n",
       "    .dataframe tbody tr th {\n",
       "        vertical-align: top;\n",
       "    }\n",
       "\n",
       "    .dataframe thead th {\n",
       "        text-align: right;\n",
       "    }\n",
       "</style>\n",
       "<table border=\"1\" class=\"dataframe\">\n",
       "  <thead>\n",
       "    <tr style=\"text-align: right;\">\n",
       "      <th></th>\n",
       "      <th>id</th>\n",
       "      <th>v2</th>\n",
       "      <th>v3</th>\n",
       "      <th>access</th>\n",
       "      <th>authentication</th>\n",
       "      <th>complexity</th>\n",
       "      <th>confidentiality</th>\n",
       "      <th>integrity</th>\n",
       "      <th>availability</th>\n",
       "      <th>date</th>\n",
       "      <th>metasploit_date</th>\n",
       "      <th>report_delay</th>\n",
       "      <th>metasploit</th>\n",
       "    </tr>\n",
       "  </thead>\n",
       "  <tbody>\n",
       "    <tr>\n",
       "      <th>1093</th>\n",
       "      <td>CVE-1999-1011</td>\n",
       "      <td>1</td>\n",
       "      <td>0</td>\n",
       "      <td>NETWORK</td>\n",
       "      <td>NONE</td>\n",
       "      <td>LOW</td>\n",
       "      <td>HIGH</td>\n",
       "      <td>HIGH</td>\n",
       "      <td>HIGH</td>\n",
       "      <td>1999-07-19</td>\n",
       "      <td>1998-07-17</td>\n",
       "      <td>-367 days</td>\n",
       "      <td>1</td>\n",
       "    </tr>\n",
       "    <tr>\n",
       "      <th>1849</th>\n",
       "      <td>CVE-2000-0322</td>\n",
       "      <td>1</td>\n",
       "      <td>0</td>\n",
       "      <td>NETWORK</td>\n",
       "      <td>NONE</td>\n",
       "      <td>LOW</td>\n",
       "      <td>HIGH</td>\n",
       "      <td>HIGH</td>\n",
       "      <td>HIGH</td>\n",
       "      <td>2000-04-24</td>\n",
       "      <td>2000-04-04</td>\n",
       "      <td>-20 days</td>\n",
       "      <td>1</td>\n",
       "    </tr>\n",
       "    <tr>\n",
       "      <th>1851</th>\n",
       "      <td>CVE-2000-0248</td>\n",
       "      <td>1</td>\n",
       "      <td>0</td>\n",
       "      <td>NETWORK</td>\n",
       "      <td>NONE</td>\n",
       "      <td>LOW</td>\n",
       "      <td>HIGH</td>\n",
       "      <td>HIGH</td>\n",
       "      <td>HIGH</td>\n",
       "      <td>2000-04-24</td>\n",
       "      <td>2000-04-04</td>\n",
       "      <td>-20 days</td>\n",
       "      <td>1</td>\n",
       "    </tr>\n",
       "    <tr>\n",
       "      <th>2104</th>\n",
       "      <td>CVE-2000-0573</td>\n",
       "      <td>1</td>\n",
       "      <td>0</td>\n",
       "      <td>NETWORK</td>\n",
       "      <td>NONE</td>\n",
       "      <td>LOW</td>\n",
       "      <td>HIGH</td>\n",
       "      <td>HIGH</td>\n",
       "      <td>HIGH</td>\n",
       "      <td>2000-07-07</td>\n",
       "      <td>2000-06-22</td>\n",
       "      <td>-15 days</td>\n",
       "      <td>1</td>\n",
       "    </tr>\n",
       "    <tr>\n",
       "      <th>2505</th>\n",
       "      <td>CVE-2000-0917</td>\n",
       "      <td>1</td>\n",
       "      <td>0</td>\n",
       "      <td>NETWORK</td>\n",
       "      <td>NONE</td>\n",
       "      <td>LOW</td>\n",
       "      <td>HIGH</td>\n",
       "      <td>HIGH</td>\n",
       "      <td>HIGH</td>\n",
       "      <td>2000-12-19</td>\n",
       "      <td>2000-09-25</td>\n",
       "      <td>-85 days</td>\n",
       "      <td>1</td>\n",
       "    </tr>\n",
       "    <tr>\n",
       "      <th>...</th>\n",
       "      <td>...</td>\n",
       "      <td>...</td>\n",
       "      <td>...</td>\n",
       "      <td>...</td>\n",
       "      <td>...</td>\n",
       "      <td>...</td>\n",
       "      <td>...</td>\n",
       "      <td>...</td>\n",
       "      <td>...</td>\n",
       "      <td>...</td>\n",
       "      <td>...</td>\n",
       "      <td>...</td>\n",
       "      <td>...</td>\n",
       "    </tr>\n",
       "    <tr>\n",
       "      <th>126749</th>\n",
       "      <td>CVE-2011-4350</td>\n",
       "      <td>1</td>\n",
       "      <td>0</td>\n",
       "      <td>NETWORK</td>\n",
       "      <td>LOW</td>\n",
       "      <td>LOW</td>\n",
       "      <td>LOW</td>\n",
       "      <td>NONE</td>\n",
       "      <td>NONE</td>\n",
       "      <td>2019-11-26</td>\n",
       "      <td>2011-11-25</td>\n",
       "      <td>-2923 days</td>\n",
       "      <td>1</td>\n",
       "    </tr>\n",
       "    <tr>\n",
       "      <th>127244</th>\n",
       "      <td>CVE-2013-5743</td>\n",
       "      <td>1</td>\n",
       "      <td>0</td>\n",
       "      <td>NETWORK</td>\n",
       "      <td>NONE</td>\n",
       "      <td>LOW</td>\n",
       "      <td>LOW</td>\n",
       "      <td>LOW</td>\n",
       "      <td>LOW</td>\n",
       "      <td>2019-12-11</td>\n",
       "      <td>2013-09-23</td>\n",
       "      <td>-2270 days</td>\n",
       "      <td>1</td>\n",
       "    </tr>\n",
       "    <tr>\n",
       "      <th>127373</th>\n",
       "      <td>CVE-2019-19726</td>\n",
       "      <td>1</td>\n",
       "      <td>0</td>\n",
       "      <td>LOCAL</td>\n",
       "      <td>NONE</td>\n",
       "      <td>LOW</td>\n",
       "      <td>HIGH</td>\n",
       "      <td>HIGH</td>\n",
       "      <td>HIGH</td>\n",
       "      <td>2019-12-12</td>\n",
       "      <td>2019-12-11</td>\n",
       "      <td>-1 days</td>\n",
       "      <td>1</td>\n",
       "    </tr>\n",
       "    <tr>\n",
       "      <th>127711</th>\n",
       "      <td>CVE-2019-8513</td>\n",
       "      <td>1</td>\n",
       "      <td>0</td>\n",
       "      <td>LOCAL</td>\n",
       "      <td>NONE</td>\n",
       "      <td>LOW</td>\n",
       "      <td>HIGH</td>\n",
       "      <td>HIGH</td>\n",
       "      <td>HIGH</td>\n",
       "      <td>2019-12-18</td>\n",
       "      <td>2019-04-13</td>\n",
       "      <td>-249 days</td>\n",
       "      <td>1</td>\n",
       "    </tr>\n",
       "    <tr>\n",
       "      <th>127865</th>\n",
       "      <td>CVE-2019-8565</td>\n",
       "      <td>1</td>\n",
       "      <td>0</td>\n",
       "      <td>NETWORK</td>\n",
       "      <td>NONE</td>\n",
       "      <td>HIGH</td>\n",
       "      <td>HIGH</td>\n",
       "      <td>HIGH</td>\n",
       "      <td>HIGH</td>\n",
       "      <td>2019-12-18</td>\n",
       "      <td>2019-04-13</td>\n",
       "      <td>-249 days</td>\n",
       "      <td>1</td>\n",
       "    </tr>\n",
       "  </tbody>\n",
       "</table>\n",
       "<p>1379 rows × 13 columns</p>\n",
       "</div>"
      ],
      "text/plain": [
       "                    id  v2  v3   access authentication complexity  \\\n",
       "1093     CVE-1999-1011   1   0  NETWORK           NONE        LOW   \n",
       "1849     CVE-2000-0322   1   0  NETWORK           NONE        LOW   \n",
       "1851     CVE-2000-0248   1   0  NETWORK           NONE        LOW   \n",
       "2104     CVE-2000-0573   1   0  NETWORK           NONE        LOW   \n",
       "2505     CVE-2000-0917   1   0  NETWORK           NONE        LOW   \n",
       "...                ...  ..  ..      ...            ...        ...   \n",
       "126749   CVE-2011-4350   1   0  NETWORK            LOW        LOW   \n",
       "127244   CVE-2013-5743   1   0  NETWORK           NONE        LOW   \n",
       "127373  CVE-2019-19726   1   0    LOCAL           NONE        LOW   \n",
       "127711   CVE-2019-8513   1   0    LOCAL           NONE        LOW   \n",
       "127865   CVE-2019-8565   1   0  NETWORK           NONE       HIGH   \n",
       "\n",
       "       confidentiality integrity availability       date metasploit_date  \\\n",
       "1093              HIGH      HIGH         HIGH 1999-07-19      1998-07-17   \n",
       "1849              HIGH      HIGH         HIGH 2000-04-24      2000-04-04   \n",
       "1851              HIGH      HIGH         HIGH 2000-04-24      2000-04-04   \n",
       "2104              HIGH      HIGH         HIGH 2000-07-07      2000-06-22   \n",
       "2505              HIGH      HIGH         HIGH 2000-12-19      2000-09-25   \n",
       "...                ...       ...          ...        ...             ...   \n",
       "126749             LOW      NONE         NONE 2019-11-26      2011-11-25   \n",
       "127244             LOW       LOW          LOW 2019-12-11      2013-09-23   \n",
       "127373            HIGH      HIGH         HIGH 2019-12-12      2019-12-11   \n",
       "127711            HIGH      HIGH         HIGH 2019-12-18      2019-04-13   \n",
       "127865            HIGH      HIGH         HIGH 2019-12-18      2019-04-13   \n",
       "\n",
       "       report_delay  metasploit  \n",
       "1093      -367 days           1  \n",
       "1849       -20 days           1  \n",
       "1851       -20 days           1  \n",
       "2104       -15 days           1  \n",
       "2505       -85 days           1  \n",
       "...             ...         ...  \n",
       "126749   -2923 days           1  \n",
       "127244   -2270 days           1  \n",
       "127373      -1 days           1  \n",
       "127711    -249 days           1  \n",
       "127865    -249 days           1  \n",
       "\n",
       "[1379 rows x 13 columns]"
      ]
     },
     "execution_count": 17,
     "metadata": {},
     "output_type": "execute_result"
    }
   ],
   "source": [
    "cves_df[cves_df['report_delay']<datetime.timedelta(0)]"
   ]
  },
  {
   "cell_type": "code",
   "execution_count": 24,
   "metadata": {},
   "outputs": [],
   "source": [
    "cves_pos_df = cves_df[cves_df['report_delay']>=datetime.timedelta(0)]\n",
    "cves_neg_df = cves_df[cves_df['report_delay']<datetime.timedelta(0)]"
   ]
  },
  {
   "cell_type": "code",
   "execution_count": 25,
   "metadata": {},
   "outputs": [
    {
     "data": {
      "text/plain": [
       "1379"
      ]
     },
     "execution_count": 25,
     "metadata": {},
     "output_type": "execute_result"
    }
   ],
   "source": [
    "cves_neg_df['date'].count()"
   ]
  },
  {
   "cell_type": "code",
   "execution_count": 26,
   "metadata": {},
   "outputs": [
    {
     "data": {
      "text/plain": [
       "335"
      ]
     },
     "execution_count": 26,
     "metadata": {},
     "output_type": "execute_result"
    }
   ],
   "source": [
    "cves_pos_df['date'].count()"
   ]
  },
  {
   "cell_type": "code",
   "execution_count": 27,
   "metadata": {},
   "outputs": [
    {
     "data": {
      "text/html": [
       "<div>\n",
       "<style scoped>\n",
       "    .dataframe tbody tr th:only-of-type {\n",
       "        vertical-align: middle;\n",
       "    }\n",
       "\n",
       "    .dataframe tbody tr th {\n",
       "        vertical-align: top;\n",
       "    }\n",
       "\n",
       "    .dataframe thead th {\n",
       "        text-align: right;\n",
       "    }\n",
       "</style>\n",
       "<table border=\"1\" class=\"dataframe\">\n",
       "  <thead>\n",
       "    <tr style=\"text-align: right;\">\n",
       "      <th></th>\n",
       "      <th>id</th>\n",
       "      <th>v2</th>\n",
       "      <th>v3</th>\n",
       "      <th>access</th>\n",
       "      <th>authentication</th>\n",
       "      <th>complexity</th>\n",
       "      <th>confidentiality</th>\n",
       "      <th>integrity</th>\n",
       "      <th>availability</th>\n",
       "      <th>date</th>\n",
       "      <th>metasploit_date</th>\n",
       "      <th>report_delay</th>\n",
       "      <th>metasploit</th>\n",
       "      <th>year</th>\n",
       "    </tr>\n",
       "  </thead>\n",
       "  <tbody>\n",
       "    <tr>\n",
       "      <th>0</th>\n",
       "      <td>CVE-1999-0095</td>\n",
       "      <td>1</td>\n",
       "      <td>0</td>\n",
       "      <td>NETWORK</td>\n",
       "      <td>NONE</td>\n",
       "      <td>LOW</td>\n",
       "      <td>HIGH</td>\n",
       "      <td>HIGH</td>\n",
       "      <td>HIGH</td>\n",
       "      <td>1988-10-01</td>\n",
       "      <td>NaT</td>\n",
       "      <td>NaT</td>\n",
       "      <td>0</td>\n",
       "      <td>1988</td>\n",
       "    </tr>\n",
       "    <tr>\n",
       "      <th>1</th>\n",
       "      <td>CVE-1999-0082</td>\n",
       "      <td>1</td>\n",
       "      <td>0</td>\n",
       "      <td>NETWORK</td>\n",
       "      <td>NONE</td>\n",
       "      <td>LOW</td>\n",
       "      <td>HIGH</td>\n",
       "      <td>HIGH</td>\n",
       "      <td>HIGH</td>\n",
       "      <td>1988-11-11</td>\n",
       "      <td>NaT</td>\n",
       "      <td>NaT</td>\n",
       "      <td>0</td>\n",
       "      <td>1988</td>\n",
       "    </tr>\n",
       "    <tr>\n",
       "      <th>2</th>\n",
       "      <td>CVE-1999-1471</td>\n",
       "      <td>1</td>\n",
       "      <td>0</td>\n",
       "      <td>LOCAL</td>\n",
       "      <td>NONE</td>\n",
       "      <td>LOW</td>\n",
       "      <td>HIGH</td>\n",
       "      <td>HIGH</td>\n",
       "      <td>HIGH</td>\n",
       "      <td>1989-01-01</td>\n",
       "      <td>NaT</td>\n",
       "      <td>NaT</td>\n",
       "      <td>0</td>\n",
       "      <td>1989</td>\n",
       "    </tr>\n",
       "    <tr>\n",
       "      <th>3</th>\n",
       "      <td>CVE-1999-1122</td>\n",
       "      <td>1</td>\n",
       "      <td>0</td>\n",
       "      <td>LOCAL</td>\n",
       "      <td>NONE</td>\n",
       "      <td>LOW</td>\n",
       "      <td>LOW</td>\n",
       "      <td>LOW</td>\n",
       "      <td>LOW</td>\n",
       "      <td>1989-07-26</td>\n",
       "      <td>NaT</td>\n",
       "      <td>NaT</td>\n",
       "      <td>0</td>\n",
       "      <td>1989</td>\n",
       "    </tr>\n",
       "    <tr>\n",
       "      <th>4</th>\n",
       "      <td>CVE-1999-1467</td>\n",
       "      <td>1</td>\n",
       "      <td>0</td>\n",
       "      <td>NETWORK</td>\n",
       "      <td>NONE</td>\n",
       "      <td>LOW</td>\n",
       "      <td>HIGH</td>\n",
       "      <td>HIGH</td>\n",
       "      <td>HIGH</td>\n",
       "      <td>1989-10-26</td>\n",
       "      <td>NaT</td>\n",
       "      <td>NaT</td>\n",
       "      <td>0</td>\n",
       "      <td>1989</td>\n",
       "    </tr>\n",
       "  </tbody>\n",
       "</table>\n",
       "</div>"
      ],
      "text/plain": [
       "              id  v2  v3   access authentication complexity confidentiality  \\\n",
       "0  CVE-1999-0095   1   0  NETWORK           NONE        LOW            HIGH   \n",
       "1  CVE-1999-0082   1   0  NETWORK           NONE        LOW            HIGH   \n",
       "2  CVE-1999-1471   1   0    LOCAL           NONE        LOW            HIGH   \n",
       "3  CVE-1999-1122   1   0    LOCAL           NONE        LOW             LOW   \n",
       "4  CVE-1999-1467   1   0  NETWORK           NONE        LOW            HIGH   \n",
       "\n",
       "  integrity availability       date metasploit_date report_delay  metasploit  \\\n",
       "0      HIGH         HIGH 1988-10-01             NaT          NaT           0   \n",
       "1      HIGH         HIGH 1988-11-11             NaT          NaT           0   \n",
       "2      HIGH         HIGH 1989-01-01             NaT          NaT           0   \n",
       "3       LOW          LOW 1989-07-26             NaT          NaT           0   \n",
       "4      HIGH         HIGH 1989-10-26             NaT          NaT           0   \n",
       "\n",
       "   year  \n",
       "0  1988  \n",
       "1  1988  \n",
       "2  1989  \n",
       "3  1989  \n",
       "4  1989  "
      ]
     },
     "execution_count": 27,
     "metadata": {},
     "output_type": "execute_result"
    }
   ],
   "source": [
    "cves_df = cves_df.sort_values(by='date')\n",
    "cves_df['year'] = cves_df['date'].dt.year\n",
    "cves_df.head()"
   ]
  },
  {
   "cell_type": "code",
   "execution_count": 28,
   "metadata": {},
   "outputs": [
    {
     "data": {
      "image/png": "[encoded data removed]",
      "text/plain": [
       "<Figure size 1080x432 with 1 Axes>"
      ]
     },
     "metadata": {
      "needs_background": "light"
     },
     "output_type": "display_data"
    }
   ],
   "source": [
    "plt.rcParams['figure.figsize'] = 15,6\n",
    "#plt.rcParams['figure.figsize'] = 8, 4\n",
    "title_size=20\n",
    "labelsize=15\n",
    "ticksize=10\n",
    "\n",
    "# plot the number of vulnerabilities by year\n",
    "cves_df.groupby('year')['year'].size().plot(kind='bar')\n",
    "plt.title('All CVEs', fontsize=title_size)\n",
    "plt.xlabel('Years', fontsize=labelsize)\n",
    "plt.ylabel('CVE Counts', fontsize=labelsize)\n",
    "plt.tick_params(labelsize=ticksize)\n",
    "plt.savefig('../../docs/img/all_cve_bar.png')"
   ]
  },
  {
   "cell_type": "code",
   "execution_count": 30,
   "metadata": {},
   "outputs": [
    {
     "data": {
      "image/png": "[encoded data removed]",
      "text/plain": [
       "<Figure size 1080x432 with 1 Axes>"
      ]
     },
     "metadata": {
      "needs_background": "light"
     },
     "output_type": "display_data"
    }
   ],
   "source": [
    "# now plot the number of v3 vulnerabilities by year\n",
    "cves_df[cves_df['v3']==1].groupby('year').size().plot(kind='bar')\n",
    "plt.title('All V3 CVEs', fontsize=title_size)\n",
    "plt.xlabel('Years', fontsize=labelsize)\n",
    "plt.ylabel('CVE Counts', fontsize=labelsize)\n",
    "plt.tick_params(labelsize=ticksize)"
   ]
  },
  {
   "cell_type": "code",
   "execution_count": 33,
   "metadata": {},
   "outputs": [
    {
     "data": {
      "image/png": "[encoded data removed]",
      "text/plain": [
       "<Figure size 1080x432 with 1 Axes>"
      ]
     },
     "metadata": {
      "needs_background": "light"
     },
     "output_type": "display_data"
    }
   ],
   "source": [
    "# and the number of v2 vulnerabilities\n",
    "cves_df[cves_df['v2']==1].groupby('year').size().plot(kind='bar')\n",
    "plt.title('All V2 CVEs', fontsize=title_size)\n",
    "plt.xlabel('Years', fontsize=labelsize)\n",
    "plt.ylabel('CVE Counts', fontsize=labelsize)\n",
    "plt.tick_params(labelsize=ticksize)"
   ]
  },
  {
   "cell_type": "code",
   "execution_count": 34,
   "metadata": {},
   "outputs": [
    {
     "data": {
      "image/png": "[encoded data removed]",
      "text/plain": [
       "<Figure size 1080x432 with 1 Axes>"
      ]
     },
     "metadata": {
      "needs_background": "light"
     },
     "output_type": "display_data"
    }
   ],
   "source": [
    "# plot exploits per year\n",
    "data = cves_df[cves_df['metasploit']==1].groupby('year').size()\n",
    "data[1988] = 0\n",
    "data[1989] = 0\n",
    "data = data.sort_index()\n",
    "data.plot(kind='bar')\n",
    "plt.title('Eploited CVEs', fontsize=title_size)\n",
    "plt.xlabel('Years', fontsize=labelsize)\n",
    "plt.ylabel('CVE Counts', fontsize=labelsize)\n",
    "plt.tick_params(labelsize=ticksize)\n",
    "plt.savefig('../../docs/img/exploited_cve_bar.png')"
   ]
  },
  {
   "cell_type": "markdown",
   "metadata": {},
   "source": [
    "We see that the distribution of vulnerabilities closlely matches the v2 frequency as we would expect since they should be the exact same population, lol, we will do a t-test just to verify,\n",
    "\n",
    "then we will do one to see whether exploits differ greatly from vulnerabilities"
   ]
  },
  {
   "cell_type": "code",
   "execution_count": 35,
   "metadata": {},
   "outputs": [
    {
     "data": {
      "text/plain": [
       "False"
      ]
     },
     "execution_count": 35,
     "metadata": {},
     "output_type": "execute_result"
    }
   ],
   "source": [
    "cves_df[cves_df['v2']==1].groupby('year').size().isnull().values.any()"
   ]
  },
  {
   "cell_type": "code",
   "execution_count": 36,
   "metadata": {},
   "outputs": [
    {
     "name": "stderr",
     "output_type": "stream",
     "text": [
      "c:\\users\\kenfa\\appdata\\local\\pypoetry\\cache\\virtualenvs\\vulnerability-prediction-q8vx1umt-py3.7\\lib\\site-packages\\scipy\\stats\\_distn_infrastructure.py:903: RuntimeWarning: invalid value encountered in greater\n",
      "  return (a < x) & (x < b)\n",
      "c:\\users\\kenfa\\appdata\\local\\pypoetry\\cache\\virtualenvs\\vulnerability-prediction-q8vx1umt-py3.7\\lib\\site-packages\\scipy\\stats\\_distn_infrastructure.py:903: RuntimeWarning: invalid value encountered in less\n",
      "  return (a < x) & (x < b)\n",
      "c:\\users\\kenfa\\appdata\\local\\pypoetry\\cache\\virtualenvs\\vulnerability-prediction-q8vx1umt-py3.7\\lib\\site-packages\\scipy\\stats\\_distn_infrastructure.py:1912: RuntimeWarning: invalid value encountered in less_equal\n",
      "  cond2 = cond0 & (x <= _a)\n"
     ]
    },
    {
     "data": {
      "text/plain": [
       "Ttest_relResult(statistic=nan, pvalue=nan)"
      ]
     },
     "execution_count": 36,
     "metadata": {},
     "output_type": "execute_result"
    }
   ],
   "source": [
    "# for a paired-t-test this fails since both distributions have the same variance and cause a div-0: \n",
    "# https://stats.stackexchange.com/questions/223579/what-do-you-expect-a-2-sample-t-test-for-the-same-two-samples-to-return\n",
    "ttest_rel(\n",
    "    cves_df.groupby('year')['year'].size(), \n",
    "    cves_df[cves_df['v2']==1].groupby('year').size()\n",
    ")"
   ]
  },
  {
   "cell_type": "code",
   "execution_count": 48,
   "metadata": {},
   "outputs": [
    {
     "data": {
      "text/plain": [
       "Ttest_relResult(statistic=-5.410304861088442, pvalue=1.6955784821428043e-05)"
      ]
     },
     "execution_count": 48,
     "metadata": {},
     "output_type": "execute_result"
    }
   ],
   "source": [
    "# now lets check for metasploit=1 (exploits), these start consistently in 1996, so we will limit our results from there\n",
    "ttest_rel(\n",
    "    cves_df[(cves_df['metasploit']==1) & (cves_df['year']>=1996) & (cves_df['year']<2020)].groupby('year').size(),\n",
    "    cves_df[(cves_df['year']>=1996) & (cves_df['year']<2020)].groupby('year')['year'].size()\n",
    ")\n",
    "\n",
    "# well now, looks like we have some statistical signifiance, the frequency of exploits is not directly porportional to the\n",
    "# frequency of vulnerabilities"
   ]
  },
  {
   "cell_type": "code",
   "execution_count": 52,
   "metadata": {},
   "outputs": [
    {
     "data": {
      "text/plain": [
       "Ttest_relResult(statistic=1.7220306047033259e-16, pvalue=0.9999999999999999)"
      ]
     },
     "execution_count": 52,
     "metadata": {},
     "output_type": "execute_result"
    }
   ],
   "source": [
    "# Lets see if a Normalized method is any different \n",
    "a = cves_df[(cves_df['metasploit']==1) & (cves_df['year']>=1996) & (cves_df['year']<2020)].groupby('year').size()\n",
    "b = cves_df[(cves_df['year']>=1996) & (cves_df['year']<2020)].groupby('year')['year'].size()\n",
    "\n",
    "a_norm = (a - a.mean()) / (a.max() - a.min())\n",
    "b_norm = (b - b.mean()) / (b.max() - b.min())\n",
    "\n",
    "ttest_rel(\n",
    "    a_norm,\n",
    "    b_norm\n",
    ")\n",
    "\n",
    "# further research shows that correlation is probably a better measure"
   ]
  },
  {
   "cell_type": "code",
   "execution_count": 53,
   "metadata": {},
   "outputs": [
    {
     "data": {
      "text/plain": [
       "0.6576564797089687"
      ]
     },
     "execution_count": 53,
     "metadata": {},
     "output_type": "execute_result"
    }
   ],
   "source": [
    "a.corr(b)"
   ]
  },
  {
   "cell_type": "markdown",
   "metadata": {},
   "source": [
    "# Looking at Attributes"
   ]
  },
  {
   "cell_type": "code",
   "execution_count": 54,
   "metadata": {},
   "outputs": [
    {
     "data": {
      "text/plain": [
       "<matplotlib.axes._subplots.AxesSubplot at 0x2952362ef08>"
      ]
     },
     "execution_count": 54,
     "metadata": {},
     "output_type": "execute_result"
    },
    {
     "data": {
      "image/png": "[encoded data removed]",
      "text/plain": [
       "<Figure size 2160x1440 with 6 Axes>"
      ]
     },
     "metadata": {
      "needs_background": "light"
     },
     "output_type": "display_data"
    }
   ],
   "source": [
    "plt.rcParams['figure.figsize'] = 30, 20\n",
    "plt.subplot(3, 2, 1)\n",
    "cves_df['access'].value_counts().plot(kind='barh', title='Access')\n",
    "\n",
    "plt.subplot(3, 2, 2)\n",
    "cves_df['authentication'].value_counts().plot(kind='barh', title='Authentication')\n",
    "\n",
    "plt.subplot(3, 2, 3)\n",
    "cves_df['availability'].value_counts().plot(kind='barh', title='Availability')\n",
    "\n",
    "plt.subplot(3, 2, 4)\n",
    "cves_df['complexity'].value_counts().plot(kind='barh', title='Complexity')\n",
    "\n",
    "plt.subplot(3, 2, 5)\n",
    "cves_df['confidentiality'].value_counts().plot(kind='barh', title='Confidentiality')\n",
    "\n",
    "plt.subplot(3, 2, 6)\n",
    "cves_df['integrity'].value_counts().plot(kind='barh', title='Integrity')"
   ]
  },
  {
   "cell_type": "code",
   "execution_count": 55,
   "metadata": {},
   "outputs": [
    {
     "data": {
      "text/plain": [
       "<matplotlib.axes._subplots.AxesSubplot at 0x29523750ac8>"
      ]
     },
     "execution_count": 55,
     "metadata": {},
     "output_type": "execute_result"
    },
    {
     "data": {
      "image/png": "[encoded data removed]",
      "text/plain": [
       "<Figure size 2160x1440 with 6 Axes>"
      ]
     },
     "metadata": {
      "needs_background": "light"
     },
     "output_type": "display_data"
    }
   ],
   "source": [
    "plt.rcParams['figure.figsize'] = 30, 20\n",
    "plt.subplot(3, 2, 1)\n",
    "cves_df[cves_df['metasploit']==1]['access'].value_counts().plot(kind='barh', title='Access')\n",
    "\n",
    "plt.subplot(3, 2, 2)\n",
    "cves_df[cves_df['metasploit']==1]['authentication'].value_counts().plot(kind='barh', title='Authentication')\n",
    "\n",
    "plt.subplot(3, 2, 3)\n",
    "cves_df[cves_df['metasploit']==1]['availability'].value_counts().plot(kind='barh', title='Availability')\n",
    "\n",
    "plt.subplot(3, 2, 4)\n",
    "cves_df[cves_df['metasploit']==1]['complexity'].value_counts().plot(kind='barh', title='Complexity')\n",
    "\n",
    "plt.subplot(3, 2, 5)\n",
    "cves_df[cves_df['metasploit']==1]['confidentiality'].value_counts().plot(kind='barh', title='Confidentiality')\n",
    "\n",
    "plt.subplot(3, 2, 6)\n",
    "cves_df[cves_df['metasploit']==1]['integrity'].value_counts().plot(kind='barh', title='Integrity')"
   ]
  },
  {
   "cell_type": "markdown",
   "metadata": {},
   "source": [
    "* Access is overwhealmingly Network based for both exploited and non exploited\n",
    "* Authentication is mostly none for both exploited and non-exploited\n",
    "* Availability is mostly High and Low for exploited while non-exploited is evenly distributed, which may imply that vulnerabilities that have something to offer are more likely to be exploited\n",
    "* Complexity also follows the non-exploited distribution\n",
    "* Confidentiality exploits seem to favor High and Low over the non-exploited which is mostly evently distributed, again potentially implying that exploits are targeted towards systems that can provide value\n",
    "* Integrity is also in favor of High and Low over non-exploited where Low is prelevent, but still mostly balanced"
   ]
  },
  {
   "cell_type": "code",
   "execution_count": 56,
   "metadata": {},
   "outputs": [],
   "source": [
    "plt.rcParams['figure.figsize'] = 8, 4\n",
    "title_size=20\n",
    "labelsize=10\n",
    "ticksize=10"
   ]
  },
  {
   "cell_type": "code",
   "execution_count": 57,
   "metadata": {},
   "outputs": [
    {
     "data": {
      "image/png": "[encoded data removed]",
      "text/plain": [
       "<Figure size 576x288 with 1 Axes>"
      ]
     },
     "metadata": {
      "needs_background": "light"
     },
     "output_type": "display_data"
    }
   ],
   "source": [
    "cves_df['confidentiality'].value_counts().plot(kind='barh')\n",
    "plt.title('All Confidentiality', fontsize=title_size)\n",
    "plt.xlabel('Counts', fontsize=labelsize)\n",
    "plt.tick_params(labelsize=ticksize)\n",
    "plt.savefig('../../docs/img/confidentiality_all.png')"
   ]
  },
  {
   "cell_type": "code",
   "execution_count": 58,
   "metadata": {
    "scrolled": true
   },
   "outputs": [
    {
     "data": {
      "image/png": "[encoded data removed]",
      "text/plain": [
       "<Figure size 576x288 with 1 Axes>"
      ]
     },
     "metadata": {
      "needs_background": "light"
     },
     "output_type": "display_data"
    }
   ],
   "source": [
    "cves_df[cves_df['metasploit']==1]['confidentiality'].value_counts().plot(kind='barh')\n",
    "plt.title('Exploited Confidentiality', fontsize=title_size)\n",
    "plt.xlabel('Counts', fontsize=labelsize)\n",
    "plt.tick_params(labelsize=ticksize)\n",
    "plt.savefig('../../docs/img/confidentiality_exploited.png')"
   ]
  },
  {
   "cell_type": "code",
   "execution_count": 59,
   "metadata": {},
   "outputs": [
    {
     "data": {
      "image/png": "[encoded data removed]",
      "text/plain": [
       "<Figure size 576x288 with 1 Axes>"
      ]
     },
     "metadata": {
      "needs_background": "light"
     },
     "output_type": "display_data"
    }
   ],
   "source": [
    "cves_df['integrity'].value_counts().plot(kind='barh')\n",
    "plt.title('All Integrity', fontsize=title_size)\n",
    "plt.xlabel('Counts', fontsize=labelsize)\n",
    "plt.tick_params(labelsize=ticksize)\n",
    "plt.savefig('../../docs/img/integrity_all.png')"
   ]
  },
  {
   "cell_type": "code",
   "execution_count": 60,
   "metadata": {},
   "outputs": [
    {
     "data": {
      "image/png": "[encoded data removed]",
      "text/plain": [
       "<Figure size 576x288 with 1 Axes>"
      ]
     },
     "metadata": {
      "needs_background": "light"
     },
     "output_type": "display_data"
    }
   ],
   "source": [
    "cves_df[cves_df['metasploit']==1]['integrity'].value_counts().plot(kind='barh')\n",
    "plt.title('Exploited Integrity', fontsize=title_size)\n",
    "plt.xlabel('Counts', fontsize=labelsize)\n",
    "plt.tick_params(labelsize=ticksize)\n",
    "plt.savefig('../../docs/img/integrity_exploited.png')"
   ]
  },
  {
   "cell_type": "code",
   "execution_count": 61,
   "metadata": {},
   "outputs": [
    {
     "data": {
      "image/png": "[encoded data removed]",
      "text/plain": [
       "<Figure size 576x288 with 1 Axes>"
      ]
     },
     "metadata": {
      "needs_background": "light"
     },
     "output_type": "display_data"
    }
   ],
   "source": [
    "cves_df['availability'].value_counts().plot(kind='barh')\n",
    "plt.title('All Availability', fontsize=title_size)\n",
    "plt.xlabel('Counts', fontsize=labelsize)\n",
    "plt.tick_params(labelsize=ticksize)\n",
    "plt.savefig('../../docs/img/availability_all.png')"
   ]
  },
  {
   "cell_type": "code",
   "execution_count": 62,
   "metadata": {},
   "outputs": [
    {
     "data": {
      "image/png": "[encoded data removed]",
      "text/plain": [
       "<Figure size 576x288 with 1 Axes>"
      ]
     },
     "metadata": {
      "needs_background": "light"
     },
     "output_type": "display_data"
    }
   ],
   "source": [
    "cves_df[cves_df['metasploit']==1]['availability'].value_counts().plot(kind='barh')\n",
    "plt.title('Exploited Availability', fontsize=title_size)\n",
    "plt.xlabel('Counts', fontsize=labelsize)\n",
    "plt.tick_params(labelsize=ticksize)\n",
    "plt.savefig('../../docs/img/availability_exploited.png')"
   ]
  },
  {
   "cell_type": "markdown",
   "metadata": {},
   "source": [
    "exploits counts go up over the years, as we've seen in some datasets, exploits are not always reported right away, which may account for the drop from 2016-2018"
   ]
  }
 ],
 "metadata": {
  "kernelspec": {
   "display_name": "vulnerability-prediction",
   "language": "python",
   "name": "vulnerability-prediction"
  },
  "language_info": {
   "codemirror_mode": {
    "name": "ipython",
    "version": 3
   },
   "file_extension": ".py",
   "mimetype": "text/x-python",
   "name": "python",
   "nbconvert_exporter": "python",
   "pygments_lexer": "ipython3",
   "version": "3.7.6"
  }
 },
 "nbformat": 4,
 "nbformat_minor": 4
}
