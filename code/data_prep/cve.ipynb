{
 "cells": [
  {
   "cell_type": "markdown",
   "metadata": {},
   "source": [
    "# Purpose\n",
    "\n",
    "* 1) Download all CVEs as zips, extract, store in ../../data/raw/ and delete zip\n",
    "* 2) Extract relevent data from each CVE and store in a dataframe\n",
    "* 3) Save dataframe as JSON object for processing later"
   ]
  },
  {
   "cell_type": "code",
   "execution_count": 7,
   "metadata": {
    "collapsed": true
   },
   "outputs": [],
   "source": [
    "import urllib\n",
    "import gzip\n",
    "import shutil\n",
    "import os\n",
    "import json\n",
    "from datetime import datetime\n",
    "import pandas as pd"
   ]
  },
  {
   "cell_type": "markdown",
   "metadata": {},
   "source": [
    "## 1) Download CVE and save in ../../data/raw\n",
    "\n",
    "NOTE: Pause Dropbox syncing before running this, dropbox won't let os.remove succeed.\n",
    "\n",
    "These files are stored in the GIT repo already extracted, only run this if you need fresh files or didn't get them from git"
   ]
  },
  {
   "cell_type": "code",
   "execution_count": 4,
   "metadata": {},
   "outputs": [
    {
     "name": "stdout",
     "output_type": "stream",
     "text": [
      "Downloading: nvdcve-1.0-2002.json\n",
      "Downloading: nvdcve-1.0-2003.json\n",
      "Downloading: nvdcve-1.0-2004.json\n",
      "Downloading: nvdcve-1.0-2005.json\n",
      "Downloading: nvdcve-1.0-2006.json\n",
      "Downloading: nvdcve-1.0-2007.json\n",
      "Downloading: nvdcve-1.0-2008.json\n",
      "Downloading: nvdcve-1.0-2009.json\n",
      "Downloading: nvdcve-1.0-2010.json\n",
      "Downloading: nvdcve-1.0-2011.json\n",
      "Downloading: nvdcve-1.0-2012.json\n",
      "Downloading: nvdcve-1.0-2013.json\n",
      "Downloading: nvdcve-1.0-2014.json\n",
      "Downloading: nvdcve-1.0-2015.json\n",
      "Downloading: nvdcve-1.0-2016.json\n",
      "Downloading: nvdcve-1.0-2017.json\n",
      "Downloading: nvdcve-1.0-2018.json\n"
     ]
    }
   ],
   "source": [
    "for year in range(2002, 2018+1):\n",
    "    file_name = 'nvdcve-1.0-{0}.json'.format(year)\n",
    "    print('Downloading:', file_name)\n",
    "    remote_file = 'https://nvd.nist.gov/feeds/json/cve/1.0/' + file_name + '.gz'\n",
    "    local_gzip_file = '../../data/raw/' + file_name + '.gz'\n",
    "    local_file = '../../data/raw/' + file_name\n",
    "    urllib.request.urlretrieve(remote_file, local_gzip_file)\n",
    "    with gzip.open(local_gzip_file, 'rb') as f_gzip:\n",
    "        with open(local_file, 'wb') as f_raw:\n",
    "            shutil.copyfileobj(f_gzip, f_raw)\n",
    "    os.remove(local_gzip_file)"
   ]
  },
  {
   "cell_type": "markdown",
   "metadata": {},
   "source": [
    "## 2) Extract the important bits from each CVE\n",
    "\n",
    "notes\n",
    "* CVSS V3 didn't take off until 2015\n",
    "* Not all entries have V3, but all have V2 or V3\n",
    "* Will use V3 when it exists, and will use V2 when not, requires some mapping"
   ]
  },
  {
   "cell_type": "code",
   "execution_count": 44,
   "metadata": {},
   "outputs": [
    {
     "name": "stdout",
     "output_type": "stream",
     "text": [
      "Processing 2018...\n",
      "num V3 29392\n",
      "num V3 only 0\n",
      "num V2 102947\n",
      "num V2 only 73555\n",
      "neither 8573\n",
      "total 102947\n"
     ]
    }
   ],
   "source": [
    "cves = []\n",
    "num_v3 = 0\n",
    "num_v2 = 0\n",
    "num_v3_only = 0\n",
    "num_v2_only = 0\n",
    "neither = 0\n",
    "for year in range(2002, 2018+1):\n",
    "    print(\"\\rProcessing {0}...\".format(year), end='')\n",
    "    with open('../../data/raw/nvdcve-1.0-{0}.json'.format(year),  'r', encoding='utf-8') as fin:\n",
    "        json_data = json.loads(fin.read())\n",
    "        \n",
    "        for cve_data in json_data['CVE_Items']:\n",
    "            cve = {}\n",
    "            cve['id'] = cve_data['cve']['CVE_data_meta']['ID']\n",
    "            cve['date'] = datetime.strptime(cve_data['publishedDate'].split('T')[0], '%Y-%m-%d')\n",
    "            cve['v2'] = 0\n",
    "            cve['v3'] = 0\n",
    "            \n",
    "            # do some statistical gathering\n",
    "            if 'baseMetricV3' in cve_data['impact']:\n",
    "                num_v3 += 1\n",
    "                cve['v3'] = 1\n",
    "                \n",
    "                if 'baseMetricV2' not in cve_data['impact']:\n",
    "                    num_v3_only += 1\n",
    "                \n",
    "            if 'baseMetricV2' in cve_data['impact']:\n",
    "                num_v2 += 1\n",
    "                cve['v2'] = 1\n",
    "                \n",
    "                if 'baseMetricV3' not in cve_data['impact']:\n",
    "                    num_v2_only += 1\n",
    "                                \n",
    "            if 'baseMetricV3' not in cve_data['impact'] and 'baseMetricV2' not in cve_data['impact']:\n",
    "                neither += 1\n",
    "            \n",
    "            if 'baseMetricV3' in cve_data['impact']:\n",
    "                # Use V3\n",
    "                cve['access'] = cve_data['impact']['baseMetricV3']['cvssV3']['attackVector']\n",
    "                cve['complexity'] = cve_data['impact']['baseMetricV3']['cvssV3']['attackComplexity']\n",
    "                cve['authentication'] = cve_data['impact']['baseMetricV3']['cvssV3']['privilegesRequired']\n",
    "                cve['confidentiality'] = cve_data['impact']['baseMetricV3']['cvssV3']['confidentialityImpact']\n",
    "                cve['integrity'] = cve_data['impact']['baseMetricV3']['cvssV3']['integrityImpact']\n",
    "                cve['availability'] = cve_data['impact']['baseMetricV3']['cvssV3']['availabilityImpact']\n",
    "                \n",
    "            elif 'baseMetricV2' in cve_data['impact']:\n",
    "                # Use V2\n",
    "                cve['access'] = cve_data['impact']['baseMetricV2']['cvssV2']['accessVector']\n",
    "                cve['complexity'] = cve_data['impact']['baseMetricV2']['cvssV2']['accessComplexity']\n",
    "                cve['authentication'] = cve_data['impact']['baseMetricV2']['cvssV2']['authentication']\n",
    "                cve['confidentiality'] = cve_data['impact']['baseMetricV2']['cvssV2']['confidentialityImpact']\n",
    "                cve['integrity'] = cve_data['impact']['baseMetricV2']['cvssV2']['integrityImpact']\n",
    "                cve['availability'] = cve_data['impact']['baseMetricV2']['cvssV2']['availabilityImpact']\n",
    "                \n",
    "            else:\n",
    "                continue\n",
    "            \n",
    "            cves.append(cve)\n",
    "\n",
    "print()\n",
    "print(\"num V3\", num_v3)\n",
    "print(\"num V3 only\", num_v3_only)\n",
    "print(\"num V2\", num_v2)\n",
    "print(\"num V2 only\", num_v2_only)\n",
    "print(\"neither\", neither)\n",
    "print(\"total cves\", len(cves))"
   ]
  },
  {
   "cell_type": "code",
   "execution_count": 45,
   "metadata": {},
   "outputs": [
    {
     "name": "stdout",
     "output_type": "stream",
     "text": [
      "wrote 102947 cves\n"
     ]
    }
   ],
   "source": [
    "json_output = json.dumps(cves, default=str)\n",
    "with open('../../data/processed/cves.json', 'w') as fout:\n",
    "    fout.write(json_output)\n",
    "print(\"wrote {0} cves\".format(len(cves)))"
   ]
  }
 ],
 "metadata": {
  "kernelspec": {
   "display_name": "Python (capstone)",
   "language": "python",
   "name": "capstone"
  },
  "language_info": {
   "codemirror_mode": {
    "name": "ipython",
    "version": 3
   },
   "file_extension": ".py",
   "mimetype": "text/x-python",
   "name": "python",
   "nbconvert_exporter": "python",
   "pygments_lexer": "ipython3",
   "version": "3.7.0"
  }
 },
 "nbformat": 4,
 "nbformat_minor": 2
}
