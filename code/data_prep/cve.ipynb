{
 "cells": [
  {
   "cell_type": "markdown",
   "metadata": {},
   "source": [
    "# Purpose\n",
    "\n",
    "* 1) Download all CVEs as zips, extract, store in ../../data/raw/ and delete zip\n",
    "* 2) Extract relevent data from each CVE and store in a dataframe\n",
    "* 3) Save dataframe as JSON object for processing later"
   ]
  },
  {
   "cell_type": "code",
   "execution_count": 1,
   "metadata": {},
   "outputs": [],
   "source": [
    "import urllib\n",
    "import gzip\n",
    "import shutil\n",
    "import os\n",
    "import json\n",
    "from datetime import datetime\n",
    "import pandas as pd"
   ]
  },
  {
   "cell_type": "markdown",
   "metadata": {},
   "source": [
    "## 1) Download CVE and save in ../../data/raw\n",
    "\n",
    "NOTE: Pause Dropbox syncing before running this, dropbox won't let os.remove succeed.\n",
    "\n",
    "These files are stored in the GIT repo already extracted, only run this if you need fresh files or didn't get them from git"
   ]
  },
  {
   "cell_type": "code",
   "execution_count": 2,
   "metadata": {},
   "outputs": [
    {
     "name": "stdout",
     "output_type": "stream",
     "text": [
      "Downloading: nvdcve-1.0-2002.json\n",
      "Downloading: nvdcve-1.0-2003.json\n",
      "Downloading: nvdcve-1.0-2004.json\n",
      "Downloading: nvdcve-1.0-2005.json\n",
      "Downloading: nvdcve-1.0-2006.json\n",
      "Downloading: nvdcve-1.0-2007.json\n",
      "Downloading: nvdcve-1.0-2008.json\n",
      "Downloading: nvdcve-1.0-2009.json\n",
      "Downloading: nvdcve-1.0-2010.json\n",
      "Downloading: nvdcve-1.0-2011.json\n",
      "Downloading: nvdcve-1.0-2012.json\n",
      "Downloading: nvdcve-1.0-2013.json\n",
      "Downloading: nvdcve-1.0-2014.json\n",
      "Downloading: nvdcve-1.0-2015.json\n",
      "Downloading: nvdcve-1.0-2016.json\n",
      "Downloading: nvdcve-1.0-2017.json\n",
      "Downloading: nvdcve-1.0-2018.json\n",
      "Downloading: nvdcve-1.0-2019.json\n",
      "Downloading: nvdcve-1.0-2020.json\n"
     ]
    }
   ],
   "source": [
    "for year in range(2002, 2020+1):\n",
    "    file_name = 'nvdcve-1.0-{0}.json'.format(year)\n",
    "    print('Downloading:', file_name)\n",
    "    remote_file = 'https://nvd.nist.gov/feeds/json/cve/1.0/' + file_name + '.gz'\n",
    "    local_gzip_file = '../../data/raw/' + file_name + '.gz'\n",
    "    local_file = '../../data/raw/' + file_name\n",
    "    urllib.request.urlretrieve(remote_file, local_gzip_file)\n",
    "    with gzip.open(local_gzip_file, 'rb') as f_gzip:\n",
    "        with open(local_file, 'wb') as f_raw:\n",
    "            shutil.copyfileobj(f_gzip, f_raw)\n",
    "    os.remove(local_gzip_file)"
   ]
  },
  {
   "cell_type": "markdown",
   "metadata": {},
   "source": [
    "## 2) Extract the important bits from each CVE\n",
    "\n",
    "notes\n",
    "* CVSS V3 didn't take off until 2015\n",
    "* Not all entries have V3, but all have V2 or V3\n",
    "* Will use V3 when it exists, and will use V2 when not, requires some mapping"
   ]
  },
  {
   "cell_type": "code",
   "execution_count": 3,
   "metadata": {},
   "outputs": [],
   "source": [
    "def v2_v3_CIA(v2):\n",
    "    ''' map None, Partial, Complete to None, Low, High'''\n",
    "    if v2 == 'NONE':\n",
    "        return 'NONE'\n",
    "    if v2 == 'PARTIAL':\n",
    "        return 'LOW'\n",
    "    if v2 == 'COMPLETE':\n",
    "        return 'HIGH'\n",
    "    return v2\n",
    "    \n",
    "def v2_v3_AUTH(v2):\n",
    "    ''' map Multiple, Single, None to High, Low, None '''\n",
    "    if v2 == 'MULTIPLE':\n",
    "        return 'HIGH'\n",
    "    if v2 == 'SINGLE':\n",
    "        return 'LOW'\n",
    "    if v2 == 'NONE':\n",
    "        return 'NONE'\n",
    "    return v2\n",
    "\n",
    "def v2_v3_COMP(v2):\n",
    "    ''' map High, Medium, Low to Low, High'''\n",
    "    if v2 == 'HIGH':\n",
    "        return 'HIGH'\n",
    "    if v2 == 'MEDIUM':\n",
    "        return 'LOW'\n",
    "    if v2 == 'LOW':\n",
    "        return 'LOW'\n",
    "    return v2\n",
    "\n",
    "def v3_v2_ACCESS(v3):\n",
    "    ''' map Network, Adjacent, Local, Physical to Network, Adjacent, Local'''\n",
    "    if v3 == 'NETWORK':\n",
    "        return 'NETWORK'\n",
    "    if v3 == 'ADJACENT_NETWORK':\n",
    "        return 'ADJACENT'\n",
    "    if v3 == 'LOCAL':\n",
    "        return 'LOCAL'\n",
    "    if v3 == 'PHYSICAL':\n",
    "        return 'LOCAL'\n",
    "    \n",
    "    print(\"REturning\", v3)\n",
    "    return v3\n",
    "\n",
    "def v2_v3_ACCESS(v2):\n",
    "    ''' map Network, Adjacent, Local, Physical to Network, Adjacent, Local'''\n",
    "    if v2 == 'NETWORK':\n",
    "        return 'NETWORK'\n",
    "    if v2 == 'ADJACENT_NETWORK':\n",
    "        return 'ADJACENT'\n",
    "    if v2 == 'LOCAL':\n",
    "        return 'LOCAL'\n",
    "    return v2\n"
   ]
  },
  {
   "cell_type": "code",
   "execution_count": 4,
   "metadata": {},
   "outputs": [
    {
     "name": "stdout",
     "output_type": "stream",
     "text": [
      "Processing 2020...\n",
      "num V3 48319\n",
      "num V3 only 0\n",
      "num V2 128350\n",
      "num V2 only 80031\n",
      "neither 7946\n",
      "total cves 128350\n"
     ]
    }
   ],
   "source": [
    "cves = []\n",
    "num_v3 = 0\n",
    "num_v2 = 0\n",
    "num_v3_only = 0\n",
    "num_v2_only = 0\n",
    "neither = 0\n",
    "for year in range(2002, 2020+1):\n",
    "    print(\"\\rProcessing {0}...\".format(year), end='')\n",
    "    with open('../../data/raw/nvdcve-1.0-{0}.json'.format(year),  'r', encoding='utf-8') as fin:\n",
    "        json_data = json.loads(fin.read())\n",
    "        \n",
    "        for cve_data in json_data['CVE_Items']:\n",
    "            cve = {}\n",
    "            cve['id'] = cve_data['cve']['CVE_data_meta']['ID']\n",
    "            cve['date'] = datetime.strptime(cve_data['publishedDate'].split('T')[0], '%Y-%m-%d')\n",
    "            cve['v2'] = 0\n",
    "            cve['v3'] = 0\n",
    "            \n",
    "            # do some statistical gathering\n",
    "            if 'baseMetricV3' in cve_data['impact']:\n",
    "                num_v3 += 1\n",
    "                cve['v3'] = 1\n",
    "                \n",
    "                if 'baseMetricV2' not in cve_data['impact']:\n",
    "                    num_v3_only += 1\n",
    "                \n",
    "            if 'baseMetricV2' in cve_data['impact']:\n",
    "                num_v2 += 1\n",
    "                cve['v2'] = 1\n",
    "                \n",
    "                if 'baseMetricV3' not in cve_data['impact']:\n",
    "                    num_v2_only += 1\n",
    "                                \n",
    "            if 'baseMetricV3' not in cve_data['impact'] and 'baseMetricV2' not in cve_data['impact']:\n",
    "                neither += 1\n",
    "            \n",
    "            if 'baseMetricV3' in cve_data['impact']:\n",
    "                # Use V3\n",
    "                cve['access'] = v3_v2_ACCESS(cve_data['impact']['baseMetricV3']['cvssV3']['attackVector']) # Network, Adjacent, Local, Physical\n",
    "                cve['complexity'] = cve_data['impact']['baseMetricV3']['cvssV3']['attackComplexity'] # Low, High\n",
    "                cve['authentication'] = cve_data['impact']['baseMetricV3']['cvssV3']['privilegesRequired'] # None, Low, High\n",
    "                cve['confidentiality'] = cve_data['impact']['baseMetricV3']['cvssV3']['confidentialityImpact'] # High, Low, None\n",
    "                cve['integrity'] = cve_data['impact']['baseMetricV3']['cvssV3']['integrityImpact'] # High, Low, None\n",
    "                cve['availability'] = cve_data['impact']['baseMetricV3']['cvssV3']['availabilityImpact'] # High, Low, None\n",
    "                \n",
    "            elif 'baseMetricV2' in cve_data['impact']:\n",
    "                # Use V2\n",
    "                cve['access'] = v2_v3_ACCESS(cve_data['impact']['baseMetricV2']['cvssV2']['accessVector']) # Network, Adjacent_Network, Local\n",
    "                cve['complexity'] = v2_v3_COMP(cve_data['impact']['baseMetricV2']['cvssV2']['accessComplexity']) # High, Medium, Low\n",
    "                cve['authentication'] = v2_v3_AUTH(cve_data['impact']['baseMetricV2']['cvssV2']['authentication']) # Multiple, Single, None\n",
    "                cve['confidentiality'] = v2_v3_CIA(cve_data['impact']['baseMetricV2']['cvssV2']['confidentialityImpact']) # None, Partial, Complete\n",
    "                cve['integrity'] = v2_v3_CIA(cve_data['impact']['baseMetricV2']['cvssV2']['integrityImpact']) # None, Partial, Complete\n",
    "                cve['availability'] = v2_v3_CIA(cve_data['impact']['baseMetricV2']['cvssV2']['availabilityImpact']) # None, Partial, Complete\n",
    "                \n",
    "            else:\n",
    "                continue\n",
    "            \n",
    "            if cve['access'] == 'PHYSICAL':\n",
    "                print(cve)\n",
    "            \n",
    "            cves.append(cve)\n",
    "\n",
    "print()\n",
    "print(\"num V3\", num_v3)\n",
    "print(\"num V3 only\", num_v3_only)\n",
    "print(\"num V2\", num_v2)\n",
    "print(\"num V2 only\", num_v2_only)\n",
    "print(\"neither\", neither)\n",
    "print(\"total cves\", len(cves))"
   ]
  },
  {
   "cell_type": "code",
   "execution_count": 5,
   "metadata": {},
   "outputs": [
    {
     "name": "stdout",
     "output_type": "stream",
     "text": [
      "wrote 128350 cves\n"
     ]
    }
   ],
   "source": [
    "json_output = json.dumps(cves, default=str)\n",
    "with open('../../data/processed/cves.json', 'w') as fout:\n",
    "    fout.write(json_output)\n",
    "print(\"wrote {0} cves\".format(len(cves)))"
   ]
  }
 ],
 "metadata": {
  "kernelspec": {
   "display_name": "vulnerability-prediction",
   "language": "python",
   "name": "vulnerability-prediction"
  },
  "language_info": {
   "codemirror_mode": {
    "name": "ipython",
    "version": 3
   },
   "file_extension": ".py",
   "mimetype": "text/x-python",
   "name": "python",
   "nbconvert_exporter": "python",
   "pygments_lexer": "ipython3",
   "version": "3.7.6"
  }
 },
 "nbformat": 4,
 "nbformat_minor": 4
}
