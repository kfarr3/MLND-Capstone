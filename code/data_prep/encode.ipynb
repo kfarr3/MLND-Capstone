{
 "cells": [
  {
   "cell_type": "markdown",
   "metadata": {},
   "source": [
    "# Purpose\n",
    "\n",
    "read in cves.json and one hot encode the categorical columns"
   ]
  },
  {
   "cell_type": "code",
   "execution_count": 60,
   "metadata": {
    "collapsed": true
   },
   "outputs": [],
   "source": [
    "import pandas as pd"
   ]
  },
  {
   "cell_type": "code",
   "execution_count": 61,
   "metadata": {
    "collapsed": true
   },
   "outputs": [],
   "source": [
    "CVE_METASPLOIT_PROCESSED = '../../data/processed/cves_metasploit.json'\n",
    "CVES_METASPLOIT_ENCODED = '../../data/processed/cves_metasplot_encoded.json'"
   ]
  },
  {
   "cell_type": "code",
   "execution_count": 62,
   "metadata": {},
   "outputs": [
    {
     "data": {
      "text/html": [
       "<div>\n",
       "<style scoped>\n",
       "    .dataframe tbody tr th:only-of-type {\n",
       "        vertical-align: middle;\n",
       "    }\n",
       "\n",
       "    .dataframe tbody tr th {\n",
       "        vertical-align: top;\n",
       "    }\n",
       "\n",
       "    .dataframe thead th {\n",
       "        text-align: right;\n",
       "    }\n",
       "</style>\n",
       "<table border=\"1\" class=\"dataframe\">\n",
       "  <thead>\n",
       "    <tr style=\"text-align: right;\">\n",
       "      <th></th>\n",
       "      <th>access</th>\n",
       "      <th>authentication</th>\n",
       "      <th>availability</th>\n",
       "      <th>complexity</th>\n",
       "      <th>confidentiality</th>\n",
       "      <th>id</th>\n",
       "      <th>integrity</th>\n",
       "      <th>metasploit</th>\n",
       "    </tr>\n",
       "  </thead>\n",
       "  <tbody>\n",
       "    <tr>\n",
       "      <th>0</th>\n",
       "      <td>NETWORK</td>\n",
       "      <td>NONE</td>\n",
       "      <td>LOW</td>\n",
       "      <td>LOW</td>\n",
       "      <td>NONE</td>\n",
       "      <td>CVE-1999-0001</td>\n",
       "      <td>NONE</td>\n",
       "      <td>0</td>\n",
       "    </tr>\n",
       "    <tr>\n",
       "      <th>1</th>\n",
       "      <td>NETWORK</td>\n",
       "      <td>NONE</td>\n",
       "      <td>HIGH</td>\n",
       "      <td>LOW</td>\n",
       "      <td>HIGH</td>\n",
       "      <td>CVE-1999-0002</td>\n",
       "      <td>HIGH</td>\n",
       "      <td>0</td>\n",
       "    </tr>\n",
       "    <tr>\n",
       "      <th>2</th>\n",
       "      <td>NETWORK</td>\n",
       "      <td>NONE</td>\n",
       "      <td>HIGH</td>\n",
       "      <td>LOW</td>\n",
       "      <td>HIGH</td>\n",
       "      <td>CVE-1999-0003</td>\n",
       "      <td>HIGH</td>\n",
       "      <td>0</td>\n",
       "    </tr>\n",
       "    <tr>\n",
       "      <th>3</th>\n",
       "      <td>NETWORK</td>\n",
       "      <td>NONE</td>\n",
       "      <td>LOW</td>\n",
       "      <td>LOW</td>\n",
       "      <td>NONE</td>\n",
       "      <td>CVE-1999-0004</td>\n",
       "      <td>NONE</td>\n",
       "      <td>0</td>\n",
       "    </tr>\n",
       "    <tr>\n",
       "      <th>4</th>\n",
       "      <td>NETWORK</td>\n",
       "      <td>NONE</td>\n",
       "      <td>HIGH</td>\n",
       "      <td>LOW</td>\n",
       "      <td>HIGH</td>\n",
       "      <td>CVE-1999-0005</td>\n",
       "      <td>HIGH</td>\n",
       "      <td>0</td>\n",
       "    </tr>\n",
       "  </tbody>\n",
       "</table>\n",
       "</div>"
      ],
      "text/plain": [
       "    access authentication availability complexity confidentiality  \\\n",
       "0  NETWORK           NONE          LOW        LOW            NONE   \n",
       "1  NETWORK           NONE         HIGH        LOW            HIGH   \n",
       "2  NETWORK           NONE         HIGH        LOW            HIGH   \n",
       "3  NETWORK           NONE          LOW        LOW            NONE   \n",
       "4  NETWORK           NONE         HIGH        LOW            HIGH   \n",
       "\n",
       "              id integrity  metasploit  \n",
       "0  CVE-1999-0001      NONE           0  \n",
       "1  CVE-1999-0002      HIGH           0  \n",
       "2  CVE-1999-0003      HIGH           0  \n",
       "3  CVE-1999-0004      NONE           0  \n",
       "4  CVE-1999-0005      HIGH           0  "
      ]
     },
     "execution_count": 62,
     "metadata": {},
     "output_type": "execute_result"
    }
   ],
   "source": [
    "cves_df = pd.read_json(CVE_METASPLOIT_PROCESSED)\n",
    "cves_df.head()"
   ]
  },
  {
   "cell_type": "code",
   "execution_count": 63,
   "metadata": {},
   "outputs": [
    {
     "data": {
      "text/plain": [
       "NETWORK     85144\n",
       "LOCAL       17353\n",
       "ADJACENT     2428\n",
       "Name: access, dtype: int64"
      ]
     },
     "execution_count": 63,
     "metadata": {},
     "output_type": "execute_result"
    }
   ],
   "source": [
    "cves_df['access'].value_counts()"
   ]
  },
  {
   "cell_type": "code",
   "execution_count": 64,
   "metadata": {
    "scrolled": false
   },
   "outputs": [
    {
     "data": {
      "text/html": [
       "<div>\n",
       "<style scoped>\n",
       "    .dataframe tbody tr th:only-of-type {\n",
       "        vertical-align: middle;\n",
       "    }\n",
       "\n",
       "    .dataframe tbody tr th {\n",
       "        vertical-align: top;\n",
       "    }\n",
       "\n",
       "    .dataframe thead th {\n",
       "        text-align: right;\n",
       "    }\n",
       "</style>\n",
       "<table border=\"1\" class=\"dataframe\">\n",
       "  <thead>\n",
       "    <tr style=\"text-align: right;\">\n",
       "      <th></th>\n",
       "      <th>id</th>\n",
       "      <th>metasploit</th>\n",
       "      <th>access_ADJACENT</th>\n",
       "      <th>access_LOCAL</th>\n",
       "      <th>access_NETWORK</th>\n",
       "      <th>auth_HIGH</th>\n",
       "      <th>auth_LOW</th>\n",
       "      <th>auth_NONE</th>\n",
       "      <th>avail_HIGH</th>\n",
       "      <th>avail_LOW</th>\n",
       "      <th>avail_NONE</th>\n",
       "      <th>comp_HIGH</th>\n",
       "      <th>comp_LOW</th>\n",
       "      <th>conf_HIGH</th>\n",
       "      <th>conf_LOW</th>\n",
       "      <th>conf_NONE</th>\n",
       "      <th>integ_HIGH</th>\n",
       "      <th>integ_LOW</th>\n",
       "      <th>integ_NONE</th>\n",
       "    </tr>\n",
       "  </thead>\n",
       "  <tbody>\n",
       "    <tr>\n",
       "      <th>0</th>\n",
       "      <td>CVE-1999-0001</td>\n",
       "      <td>0</td>\n",
       "      <td>0</td>\n",
       "      <td>0</td>\n",
       "      <td>1</td>\n",
       "      <td>0</td>\n",
       "      <td>0</td>\n",
       "      <td>1</td>\n",
       "      <td>0</td>\n",
       "      <td>1</td>\n",
       "      <td>0</td>\n",
       "      <td>0</td>\n",
       "      <td>1</td>\n",
       "      <td>0</td>\n",
       "      <td>0</td>\n",
       "      <td>1</td>\n",
       "      <td>0</td>\n",
       "      <td>0</td>\n",
       "      <td>1</td>\n",
       "    </tr>\n",
       "    <tr>\n",
       "      <th>1</th>\n",
       "      <td>CVE-1999-0002</td>\n",
       "      <td>0</td>\n",
       "      <td>0</td>\n",
       "      <td>0</td>\n",
       "      <td>1</td>\n",
       "      <td>0</td>\n",
       "      <td>0</td>\n",
       "      <td>1</td>\n",
       "      <td>1</td>\n",
       "      <td>0</td>\n",
       "      <td>0</td>\n",
       "      <td>0</td>\n",
       "      <td>1</td>\n",
       "      <td>1</td>\n",
       "      <td>0</td>\n",
       "      <td>0</td>\n",
       "      <td>1</td>\n",
       "      <td>0</td>\n",
       "      <td>0</td>\n",
       "    </tr>\n",
       "    <tr>\n",
       "      <th>2</th>\n",
       "      <td>CVE-1999-0003</td>\n",
       "      <td>0</td>\n",
       "      <td>0</td>\n",
       "      <td>0</td>\n",
       "      <td>1</td>\n",
       "      <td>0</td>\n",
       "      <td>0</td>\n",
       "      <td>1</td>\n",
       "      <td>1</td>\n",
       "      <td>0</td>\n",
       "      <td>0</td>\n",
       "      <td>0</td>\n",
       "      <td>1</td>\n",
       "      <td>1</td>\n",
       "      <td>0</td>\n",
       "      <td>0</td>\n",
       "      <td>1</td>\n",
       "      <td>0</td>\n",
       "      <td>0</td>\n",
       "    </tr>\n",
       "    <tr>\n",
       "      <th>3</th>\n",
       "      <td>CVE-1999-0004</td>\n",
       "      <td>0</td>\n",
       "      <td>0</td>\n",
       "      <td>0</td>\n",
       "      <td>1</td>\n",
       "      <td>0</td>\n",
       "      <td>0</td>\n",
       "      <td>1</td>\n",
       "      <td>0</td>\n",
       "      <td>1</td>\n",
       "      <td>0</td>\n",
       "      <td>0</td>\n",
       "      <td>1</td>\n",
       "      <td>0</td>\n",
       "      <td>0</td>\n",
       "      <td>1</td>\n",
       "      <td>0</td>\n",
       "      <td>0</td>\n",
       "      <td>1</td>\n",
       "    </tr>\n",
       "    <tr>\n",
       "      <th>4</th>\n",
       "      <td>CVE-1999-0005</td>\n",
       "      <td>0</td>\n",
       "      <td>0</td>\n",
       "      <td>0</td>\n",
       "      <td>1</td>\n",
       "      <td>0</td>\n",
       "      <td>0</td>\n",
       "      <td>1</td>\n",
       "      <td>1</td>\n",
       "      <td>0</td>\n",
       "      <td>0</td>\n",
       "      <td>0</td>\n",
       "      <td>1</td>\n",
       "      <td>1</td>\n",
       "      <td>0</td>\n",
       "      <td>0</td>\n",
       "      <td>1</td>\n",
       "      <td>0</td>\n",
       "      <td>0</td>\n",
       "    </tr>\n",
       "  </tbody>\n",
       "</table>\n",
       "</div>"
      ],
      "text/plain": [
       "              id  metasploit  access_ADJACENT  access_LOCAL  access_NETWORK  \\\n",
       "0  CVE-1999-0001           0                0             0               1   \n",
       "1  CVE-1999-0002           0                0             0               1   \n",
       "2  CVE-1999-0003           0                0             0               1   \n",
       "3  CVE-1999-0004           0                0             0               1   \n",
       "4  CVE-1999-0005           0                0             0               1   \n",
       "\n",
       "   auth_HIGH  auth_LOW  auth_NONE  avail_HIGH  avail_LOW  avail_NONE  \\\n",
       "0          0         0          1           0          1           0   \n",
       "1          0         0          1           1          0           0   \n",
       "2          0         0          1           1          0           0   \n",
       "3          0         0          1           0          1           0   \n",
       "4          0         0          1           1          0           0   \n",
       "\n",
       "   comp_HIGH  comp_LOW  conf_HIGH  conf_LOW  conf_NONE  integ_HIGH  integ_LOW  \\\n",
       "0          0         1          0         0          1           0          0   \n",
       "1          0         1          1         0          0           1          0   \n",
       "2          0         1          1         0          0           1          0   \n",
       "3          0         1          0         0          1           0          0   \n",
       "4          0         1          1         0          0           1          0   \n",
       "\n",
       "   integ_NONE  \n",
       "0           1  \n",
       "1           0  \n",
       "2           0  \n",
       "3           1  \n",
       "4           0  "
      ]
     },
     "execution_count": 64,
     "metadata": {},
     "output_type": "execute_result"
    }
   ],
   "source": [
    "cves_df = cves_df.merge(pd.get_dummies(cves_df['access'], prefix='access'), left_index=True, right_index=True)\n",
    "cves_df = cves_df.merge(pd.get_dummies(cves_df['authentication'], prefix='auth'), left_index=True, right_index=True)\n",
    "cves_df = cves_df.merge(pd.get_dummies(cves_df['availability'], prefix='avail'), left_index=True, right_index=True)\n",
    "cves_df = cves_df.merge(pd.get_dummies(cves_df['complexity'], prefix='comp'), left_index=True, right_index=True)\n",
    "cves_df = cves_df.merge(pd.get_dummies(cves_df['confidentiality'], 'conf'), left_index=True, right_index=True)\n",
    "cves_df = cves_df.merge(pd.get_dummies(cves_df['integrity'], 'integ'), left_index=True, right_index=True)\n",
    "\n",
    "cves_df.drop('access', axis=1, inplace=True)\n",
    "cves_df.drop('authentication', axis=1, inplace=True)\n",
    "cves_df.drop('availability', axis=1, inplace=True)\n",
    "cves_df.drop('complexity', axis=1, inplace=True)\n",
    "cves_df.drop('confidentiality', axis=1, inplace=True)\n",
    "cves_df.drop('integrity', axis=1, inplace=True)\n",
    "\n",
    "cves_df.head()"
   ]
  },
  {
   "cell_type": "code",
   "execution_count": 65,
   "metadata": {
    "collapsed": true
   },
   "outputs": [],
   "source": [
    "out = cves_df.to_json(orient='records')\n",
    "with open(CVES_METASPLOIT_ENCODED, 'w') as fout:\n",
    "    fout.write(out)"
   ]
  },
  {
   "cell_type": "code",
   "execution_count": 66,
   "metadata": {},
   "outputs": [
    {
     "data": {
      "text/plain": [
       "1657"
      ]
     },
     "execution_count": 66,
     "metadata": {},
     "output_type": "execute_result"
    }
   ],
   "source": [
    "(cves_df['metasploit']==1).sum()"
   ]
  },
  {
   "cell_type": "code",
   "execution_count": 67,
   "metadata": {},
   "outputs": [
    {
     "data": {
      "text/plain": [
       "103268"
      ]
     },
     "execution_count": 67,
     "metadata": {},
     "output_type": "execute_result"
    }
   ],
   "source": [
    "(cves_df['metasploit']==0).sum()"
   ]
  },
  {
   "cell_type": "code",
   "execution_count": 68,
   "metadata": {},
   "outputs": [
    {
     "name": "stdout",
     "output_type": "stream",
     "text": [
      "Accuracy 0.0159693823035154\n",
      "Precision 0.0159693823035154\n",
      "Recall 1.0\n"
     ]
    }
   ],
   "source": [
    "tp = 1644\n",
    "fp = 101303\n",
    "fn = 0\n",
    "tn = 0\n",
    "\n",
    "accuracy = (tp + tn) / (tp + fp + fn + tn)\n",
    "precision = tp / (tp + fp)\n",
    "recall = tp / (tp + fn)\n",
    "\n",
    "print(\"Accuracy\", accuracy)\n",
    "print(\"Precision\", precision)\n",
    "print(\"Recall\", recall)"
   ]
  }
 ],
 "metadata": {
  "kernelspec": {
   "display_name": "Python 3 (mlnd)",
   "language": "python",
   "name": "mlnd"
  },
  "language_info": {
   "codemirror_mode": {
    "name": "ipython",
    "version": 3
   },
   "file_extension": ".py",
   "mimetype": "text/x-python",
   "name": "python",
   "nbconvert_exporter": "python",
   "pygments_lexer": "ipython3",
   "version": "3.6.6"
  }
 },
 "nbformat": 4,
 "nbformat_minor": 2
}
