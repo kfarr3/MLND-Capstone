{
 "cells": [
  {
   "cell_type": "markdown",
   "metadata": {},
   "source": [
    "# Purpose\n",
    "\n",
    "Attempt to perform an Decision Tree classifier on the cves/metasploit dataset"
   ]
  },
  {
   "cell_type": "code",
   "execution_count": 48,
   "metadata": {
    "collapsed": true
   },
   "outputs": [],
   "source": [
    "import pandas as pd\n",
    "import seaborn as sns\n",
    "import matplotlib.pyplot as plt \n",
    "import numpy as np\n",
    "from io import StringIO\n",
    "\n",
    "from sklearn.cross_validation import train_test_split\n",
    "from sklearn.tree import DecisionTreeClassifier\n",
    "from sklearn.model_selection import cross_val_score\n",
    "from sklearn.metrics import confusion_matrix, fbeta_score, classification_report\n",
    "from sklearn.model_selection import GridSearchCV\n",
    "from sklearn.tree import export_graphviz\n",
    "\n",
    "from sklearn.metrics import fbeta_score, make_scorer\n",
    "\n",
    "from IPython.display import Image  \n",
    "\n",
    "import pydotplus\n",
    "\n",
    "\n",
    "%matplotlib inline\n"
   ]
  },
  {
   "cell_type": "code",
   "execution_count": 3,
   "metadata": {
    "collapsed": true
   },
   "outputs": [],
   "source": [
    "CVES_METASPLOIT_ENCODED = '../../data/processed/cves_metasplot_encoded.json'"
   ]
  },
  {
   "cell_type": "code",
   "execution_count": 39,
   "metadata": {
    "scrolled": false
   },
   "outputs": [
    {
     "data": {
      "text/html": [
       "<div>\n",
       "<style scoped>\n",
       "    .dataframe tbody tr th:only-of-type {\n",
       "        vertical-align: middle;\n",
       "    }\n",
       "\n",
       "    .dataframe tbody tr th {\n",
       "        vertical-align: top;\n",
       "    }\n",
       "\n",
       "    .dataframe thead th {\n",
       "        text-align: right;\n",
       "    }\n",
       "</style>\n",
       "<table border=\"1\" class=\"dataframe\">\n",
       "  <thead>\n",
       "    <tr style=\"text-align: right;\">\n",
       "      <th></th>\n",
       "      <th>access_ADJACENT</th>\n",
       "      <th>access_LOCAL</th>\n",
       "      <th>access_NETWORK</th>\n",
       "      <th>auth_HIGH</th>\n",
       "      <th>auth_LOW</th>\n",
       "      <th>auth_NONE</th>\n",
       "      <th>avail_HIGH</th>\n",
       "      <th>avail_LOW</th>\n",
       "      <th>avail_NONE</th>\n",
       "      <th>comp_HIGH</th>\n",
       "      <th>comp_LOW</th>\n",
       "      <th>conf_HIGH</th>\n",
       "      <th>conf_LOW</th>\n",
       "      <th>conf_NONE</th>\n",
       "      <th>id</th>\n",
       "      <th>integ_HIGH</th>\n",
       "      <th>integ_LOW</th>\n",
       "      <th>integ_NONE</th>\n",
       "      <th>metasploit</th>\n",
       "    </tr>\n",
       "  </thead>\n",
       "  <tbody>\n",
       "    <tr>\n",
       "      <th>0</th>\n",
       "      <td>0</td>\n",
       "      <td>0</td>\n",
       "      <td>1</td>\n",
       "      <td>0</td>\n",
       "      <td>0</td>\n",
       "      <td>1</td>\n",
       "      <td>0</td>\n",
       "      <td>1</td>\n",
       "      <td>0</td>\n",
       "      <td>0</td>\n",
       "      <td>1</td>\n",
       "      <td>0</td>\n",
       "      <td>0</td>\n",
       "      <td>1</td>\n",
       "      <td>CVE-1999-0001</td>\n",
       "      <td>0</td>\n",
       "      <td>0</td>\n",
       "      <td>1</td>\n",
       "      <td>0</td>\n",
       "    </tr>\n",
       "    <tr>\n",
       "      <th>1</th>\n",
       "      <td>0</td>\n",
       "      <td>0</td>\n",
       "      <td>1</td>\n",
       "      <td>0</td>\n",
       "      <td>0</td>\n",
       "      <td>1</td>\n",
       "      <td>1</td>\n",
       "      <td>0</td>\n",
       "      <td>0</td>\n",
       "      <td>0</td>\n",
       "      <td>1</td>\n",
       "      <td>1</td>\n",
       "      <td>0</td>\n",
       "      <td>0</td>\n",
       "      <td>CVE-1999-0002</td>\n",
       "      <td>1</td>\n",
       "      <td>0</td>\n",
       "      <td>0</td>\n",
       "      <td>0</td>\n",
       "    </tr>\n",
       "    <tr>\n",
       "      <th>2</th>\n",
       "      <td>0</td>\n",
       "      <td>0</td>\n",
       "      <td>1</td>\n",
       "      <td>0</td>\n",
       "      <td>0</td>\n",
       "      <td>1</td>\n",
       "      <td>1</td>\n",
       "      <td>0</td>\n",
       "      <td>0</td>\n",
       "      <td>0</td>\n",
       "      <td>1</td>\n",
       "      <td>1</td>\n",
       "      <td>0</td>\n",
       "      <td>0</td>\n",
       "      <td>CVE-1999-0003</td>\n",
       "      <td>1</td>\n",
       "      <td>0</td>\n",
       "      <td>0</td>\n",
       "      <td>0</td>\n",
       "    </tr>\n",
       "    <tr>\n",
       "      <th>3</th>\n",
       "      <td>0</td>\n",
       "      <td>0</td>\n",
       "      <td>1</td>\n",
       "      <td>0</td>\n",
       "      <td>0</td>\n",
       "      <td>1</td>\n",
       "      <td>0</td>\n",
       "      <td>1</td>\n",
       "      <td>0</td>\n",
       "      <td>0</td>\n",
       "      <td>1</td>\n",
       "      <td>0</td>\n",
       "      <td>0</td>\n",
       "      <td>1</td>\n",
       "      <td>CVE-1999-0004</td>\n",
       "      <td>0</td>\n",
       "      <td>0</td>\n",
       "      <td>1</td>\n",
       "      <td>0</td>\n",
       "    </tr>\n",
       "    <tr>\n",
       "      <th>4</th>\n",
       "      <td>0</td>\n",
       "      <td>0</td>\n",
       "      <td>1</td>\n",
       "      <td>0</td>\n",
       "      <td>0</td>\n",
       "      <td>1</td>\n",
       "      <td>1</td>\n",
       "      <td>0</td>\n",
       "      <td>0</td>\n",
       "      <td>0</td>\n",
       "      <td>1</td>\n",
       "      <td>1</td>\n",
       "      <td>0</td>\n",
       "      <td>0</td>\n",
       "      <td>CVE-1999-0005</td>\n",
       "      <td>1</td>\n",
       "      <td>0</td>\n",
       "      <td>0</td>\n",
       "      <td>0</td>\n",
       "    </tr>\n",
       "  </tbody>\n",
       "</table>\n",
       "</div>"
      ],
      "text/plain": [
       "   access_ADJACENT  access_LOCAL  access_NETWORK  auth_HIGH  auth_LOW  \\\n",
       "0                0             0               1          0         0   \n",
       "1                0             0               1          0         0   \n",
       "2                0             0               1          0         0   \n",
       "3                0             0               1          0         0   \n",
       "4                0             0               1          0         0   \n",
       "\n",
       "   auth_NONE  avail_HIGH  avail_LOW  avail_NONE  comp_HIGH  comp_LOW  \\\n",
       "0          1           0          1           0          0         1   \n",
       "1          1           1          0           0          0         1   \n",
       "2          1           1          0           0          0         1   \n",
       "3          1           0          1           0          0         1   \n",
       "4          1           1          0           0          0         1   \n",
       "\n",
       "   conf_HIGH  conf_LOW  conf_NONE             id  integ_HIGH  integ_LOW  \\\n",
       "0          0         0          1  CVE-1999-0001           0          0   \n",
       "1          1         0          0  CVE-1999-0002           1          0   \n",
       "2          1         0          0  CVE-1999-0003           1          0   \n",
       "3          0         0          1  CVE-1999-0004           0          0   \n",
       "4          1         0          0  CVE-1999-0005           1          0   \n",
       "\n",
       "   integ_NONE  metasploit  \n",
       "0           1           0  \n",
       "1           0           0  \n",
       "2           0           0  \n",
       "3           1           0  \n",
       "4           0           0  "
      ]
     },
     "execution_count": 39,
     "metadata": {},
     "output_type": "execute_result"
    }
   ],
   "source": [
    "cves_df = pd.read_json(CVES_METASPLOIT_ENCODED)\n",
    "cves_df.head()"
   ]
  },
  {
   "cell_type": "code",
   "execution_count": 40,
   "metadata": {
    "collapsed": true
   },
   "outputs": [],
   "source": [
    "X = cves_df.drop(['metasploit', 'id'], axis=1)\n",
    "y = cves_df['metasploit']\n",
    "X_train, X_test, y_train, y_test = train_test_split(X, y, random_state=0)"
   ]
  },
  {
   "cell_type": "code",
   "execution_count": 7,
   "metadata": {},
   "outputs": [
    {
     "data": {
      "text/plain": [
       "0.016008289081725167"
      ]
     },
     "execution_count": 7,
     "metadata": {},
     "output_type": "execute_result"
    }
   ],
   "source": [
    "y_train.mean()"
   ]
  },
  {
   "cell_type": "code",
   "execution_count": 8,
   "metadata": {},
   "outputs": [
    {
     "data": {
      "text/plain": [
       "0.015852663480592142"
      ]
     },
     "execution_count": 8,
     "metadata": {},
     "output_type": "execute_result"
    }
   ],
   "source": [
    "y_test.mean()"
   ]
  },
  {
   "cell_type": "markdown",
   "metadata": {},
   "source": [
    "Fighting an imbalance problem here, going to keep above for notes and keep experimenting below"
   ]
  },
  {
   "cell_type": "code",
   "execution_count": 17,
   "metadata": {
    "scrolled": false
   },
   "outputs": [
    {
     "name": "stdout",
     "output_type": "stream",
     "text": [
      "GridSearchCV(cv=5, error_score='raise',\n",
      "       estimator=DecisionTreeClassifier(class_weight='balanced', criterion='gini',\n",
      "            max_depth=None, max_features='auto', max_leaf_nodes=None,\n",
      "            min_impurity_decrease=0.0, min_impurity_split=None,\n",
      "            min_samples_leaf=1, min_samples_split=2,\n",
      "            min_weight_fraction_leaf=0.0, presort=False, random_state=11,\n",
      "            splitter='best'),\n",
      "       fit_params=None, iid=True, n_jobs=-1,\n",
      "       param_grid={'criterion': ['gini', 'entropy'], 'splitter': ['best', 'random'], 'max_depth': [5, 6, 7, 8, 9, 10, 20, 40, 80, 100], 'min_samples_split': [2, 4, 8, 16, 24, 48], 'min_samples_leaf': [1, 2, 3, 4, 5, 6], 'max_features': [1, 2, 3, 4, 5, 6, 7]},\n",
      "       pre_dispatch='2*n_jobs', refit=True, return_train_score='warn',\n",
      "       scoring=make_scorer(fbeta_score, beta=10), verbose=0)\n",
      "0.6203615094269612\n",
      "{'criterion': 'entropy', 'max_depth': 7, 'max_features': 5, 'min_samples_leaf': 1, 'min_samples_split': 16, 'splitter': 'best'}\n"
     ]
    }
   ],
   "source": [
    "param_grid = {\"criterion\" : [\"gini\", \"entropy\"],\n",
    "              \"splitter\" :   [\"best\", \"random\"],\n",
    "              \"max_depth\": [5,6,7,8,9,10, 20, 40, 80, 100],\n",
    "              \"min_samples_split\": [2, 4, 8, 16, 24, 48],\n",
    "              \"min_samples_leaf\": [1, 2, 3, 4, 5, 6],\n",
    "              \"max_features\": [1, 2, 3, 4, 5, 6, 7],\n",
    "              \n",
    "             }\n",
    "\n",
    "model = DecisionTreeClassifier(\n",
    "    random_state = 11, \n",
    "    max_features = \"auto\", \n",
    "    class_weight = \"balanced\"\n",
    ")\n",
    "\n",
    "# run grid search\n",
    "f10_scorer = make_scorer(fbeta_score, beta=10)\n",
    "\n",
    "grid_search_model = GridSearchCV(model, param_grid=param_grid, scoring=f10_scorer, cv=5, n_jobs=-1)\n",
    "\n",
    "grid_search_model.fit(X_train, y_train)\n",
    "print(grid_search_model)\n",
    "print(grid_search_model.best_score_)\n",
    "print(grid_search_model.best_params_)"
   ]
  },
  {
   "cell_type": "code",
   "execution_count": 49,
   "metadata": {},
   "outputs": [
    {
     "data": {
      "text/html": [
       "<div>\n",
       "<style scoped>\n",
       "    .dataframe tbody tr th:only-of-type {\n",
       "        vertical-align: middle;\n",
       "    }\n",
       "\n",
       "    .dataframe tbody tr th {\n",
       "        vertical-align: top;\n",
       "    }\n",
       "\n",
       "    .dataframe thead th {\n",
       "        text-align: right;\n",
       "    }\n",
       "</style>\n",
       "<table border=\"1\" class=\"dataframe\">\n",
       "  <thead>\n",
       "    <tr style=\"text-align: right;\">\n",
       "      <th>Predicted</th>\n",
       "      <th>0</th>\n",
       "      <th>1</th>\n",
       "      <th>All</th>\n",
       "    </tr>\n",
       "    <tr>\n",
       "      <th>True</th>\n",
       "      <th></th>\n",
       "      <th></th>\n",
       "      <th></th>\n",
       "    </tr>\n",
       "  </thead>\n",
       "  <tbody>\n",
       "    <tr>\n",
       "      <th>0</th>\n",
       "      <td>14712</td>\n",
       "      <td>11088</td>\n",
       "      <td>25800</td>\n",
       "    </tr>\n",
       "    <tr>\n",
       "      <th>1</th>\n",
       "      <td>93</td>\n",
       "      <td>339</td>\n",
       "      <td>432</td>\n",
       "    </tr>\n",
       "    <tr>\n",
       "      <th>All</th>\n",
       "      <td>14805</td>\n",
       "      <td>11427</td>\n",
       "      <td>26232</td>\n",
       "    </tr>\n",
       "  </tbody>\n",
       "</table>\n",
       "</div>"
      ],
      "text/plain": [
       "Predicted      0      1    All\n",
       "True                          \n",
       "0          14712  11088  25800\n",
       "1             93    339    432\n",
       "All        14805  11427  26232"
      ]
     },
     "metadata": {},
     "output_type": "display_data"
    },
    {
     "name": "stdout",
     "output_type": "stream",
     "text": [
      "Training Accuracy: 0.5804836516589785\n",
      "Test Accuracy    : 0.5737648673376029\n",
      "F10 Score        : 0.6267779669394256\n",
      "\n",
      "             precision    recall  f1-score   support\n",
      "\n",
      "          0       0.99      0.57      0.72     25800\n",
      "          1       0.03      0.78      0.06       432\n",
      "\n",
      "avg / total       0.98      0.57      0.71     26232\n",
      "\n"
     ]
    }
   ],
   "source": [
    "model = DecisionTreeClassifier(class_weight='balanced', criterion='entropy',\n",
    "            max_depth=7, max_features=5, max_leaf_nodes=None,\n",
    "            min_impurity_decrease=0.0, min_impurity_split=None,\n",
    "            min_samples_leaf=1, min_samples_split=16,\n",
    "            min_weight_fraction_leaf=0.0, presort=False, random_state=11,\n",
    "            splitter='best')\n",
    "model.fit(X_train, y_train)\n",
    "y_pred = model.predict(X_test)\n",
    "\n",
    "display(pd.crosstab(y_test, y_pred, rownames=['True'], colnames=['Predicted'], margins=True))\n",
    "print(\"Training Accuracy:\", model.score(X_train, y_train))\n",
    "print(\"Test Accuracy    :\", model.score(X_test, y_test))\n",
    "print(\"F10 Score        :\", fbeta_score(y_test, y_pred, 10))\n",
    "print()\n",
    "print(classification_report(y_test, y_pred))"
   ]
  },
  {
   "cell_type": "code",
   "execution_count": 64,
   "metadata": {},
   "outputs": [
    {
     "name": "stdout",
     "output_type": "stream",
     "text": [
      "[0.6317545  0.56447155 0.44305728 0.4676451  0.55894406 0.61155056\n",
      " 0.67892881 0.59921845 0.697169   0.63158898]\n",
      "Accuracy: 0.59 (+/- 0.16)\n"
     ]
    }
   ],
   "source": [
    "# Perform cross fold validation\n",
    "model = DecisionTreeClassifier(class_weight='balanced', criterion='entropy',\n",
    "            max_depth=7, max_features=5, max_leaf_nodes=None,\n",
    "            min_impurity_decrease=0.0, min_impurity_split=None,\n",
    "            min_samples_leaf=1, min_samples_split=16,\n",
    "            min_weight_fraction_leaf=0.0, presort=False, random_state=11,\n",
    "            splitter='best')\n",
    "scores = cross_val_score(model, X, y, cv=10)\n",
    "print(scores)\n",
    "print(\"Accuracy: %0.2f (+/- %0.2f)\" % (scores.mean(), scores.std() * 2))"
   ]
  },
  {
   "cell_type": "code",
   "execution_count": 20,
   "metadata": {},
   "outputs": [
    {
     "data": {
      "text/plain": [
       "'avail_NONE'"
      ]
     },
     "execution_count": 20,
     "metadata": {},
     "output_type": "execute_result"
    }
   ],
   "source": [
    "X_train.columns[9]"
   ]
  }
 ],
 "metadata": {
  "kernelspec": {
   "display_name": "Python 3 (mlnd)",
   "language": "python",
   "name": "mlnd"
  },
  "language_info": {
   "codemirror_mode": {
    "name": "ipython",
    "version": 3
   },
   "file_extension": ".py",
   "mimetype": "text/x-python",
   "name": "python",
   "nbconvert_exporter": "python",
   "pygments_lexer": "ipython3",
   "version": "3.7.0"
  }
 },
 "nbformat": 4,
 "nbformat_minor": 2
}
