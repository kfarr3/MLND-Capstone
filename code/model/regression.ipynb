{
 "cells": [
  {
   "cell_type": "markdown",
   "metadata": {},
   "source": [
    "# Purpose\n",
    "\n",
    "Attempt to perform a logistic regression on the cves/metasploit dataset"
   ]
  },
  {
   "cell_type": "code",
   "execution_count": 142,
   "metadata": {},
   "outputs": [],
   "source": [
    "import pandas as pd\n",
    "import seaborn as sns\n",
    "import matplotlib.pyplot as plt \n",
    "import numpy as np\n",
    "\n",
    "from sklearn.cross_validation import train_test_split\n",
    "from sklearn.linear_model import LogisticRegression\n",
    "from sklearn.metrics import classification_report\n",
    "from sklearn.metrics import confusion_matrix\n",
    "\n",
    "\n",
    "%matplotlib inline\n"
   ]
  },
  {
   "cell_type": "code",
   "execution_count": 1,
   "metadata": {
    "collapsed": true
   },
   "outputs": [],
   "source": [
    "CVES_METASPLOIT_ENCODED = '../../data/processed/cves_metasplot_encoded.json'"
   ]
  },
  {
   "cell_type": "code",
   "execution_count": 3,
   "metadata": {
    "scrolled": false
   },
   "outputs": [
    {
     "data": {
      "text/html": [
       "<div>\n",
       "<style scoped>\n",
       "    .dataframe tbody tr th:only-of-type {\n",
       "        vertical-align: middle;\n",
       "    }\n",
       "\n",
       "    .dataframe tbody tr th {\n",
       "        vertical-align: top;\n",
       "    }\n",
       "\n",
       "    .dataframe thead th {\n",
       "        text-align: right;\n",
       "    }\n",
       "</style>\n",
       "<table border=\"1\" class=\"dataframe\">\n",
       "  <thead>\n",
       "    <tr style=\"text-align: right;\">\n",
       "      <th></th>\n",
       "      <th>access_ADJACENT_NETWORK</th>\n",
       "      <th>access_LOCAL</th>\n",
       "      <th>access_NETWORK</th>\n",
       "      <th>access_PHYSICAL</th>\n",
       "      <th>auth_HIGH</th>\n",
       "      <th>auth_LOW</th>\n",
       "      <th>auth_MULTIPLE</th>\n",
       "      <th>auth_NONE</th>\n",
       "      <th>auth_SINGLE</th>\n",
       "      <th>avail_COMPLETE</th>\n",
       "      <th>...</th>\n",
       "      <th>conf_LOW</th>\n",
       "      <th>conf_NONE</th>\n",
       "      <th>conf_PARTIAL</th>\n",
       "      <th>id</th>\n",
       "      <th>integ_COMPLETE</th>\n",
       "      <th>integ_HIGH</th>\n",
       "      <th>integ_LOW</th>\n",
       "      <th>integ_NONE</th>\n",
       "      <th>integ_PARTIAL</th>\n",
       "      <th>metasploit</th>\n",
       "    </tr>\n",
       "  </thead>\n",
       "  <tbody>\n",
       "    <tr>\n",
       "      <th>0</th>\n",
       "      <td>0</td>\n",
       "      <td>0</td>\n",
       "      <td>1</td>\n",
       "      <td>0</td>\n",
       "      <td>0</td>\n",
       "      <td>0</td>\n",
       "      <td>0</td>\n",
       "      <td>1</td>\n",
       "      <td>0</td>\n",
       "      <td>0</td>\n",
       "      <td>...</td>\n",
       "      <td>0</td>\n",
       "      <td>1</td>\n",
       "      <td>0</td>\n",
       "      <td>CVE-1999-0001</td>\n",
       "      <td>0</td>\n",
       "      <td>0</td>\n",
       "      <td>0</td>\n",
       "      <td>1</td>\n",
       "      <td>0</td>\n",
       "      <td>0</td>\n",
       "    </tr>\n",
       "    <tr>\n",
       "      <th>1</th>\n",
       "      <td>0</td>\n",
       "      <td>0</td>\n",
       "      <td>1</td>\n",
       "      <td>0</td>\n",
       "      <td>0</td>\n",
       "      <td>0</td>\n",
       "      <td>0</td>\n",
       "      <td>1</td>\n",
       "      <td>0</td>\n",
       "      <td>1</td>\n",
       "      <td>...</td>\n",
       "      <td>0</td>\n",
       "      <td>0</td>\n",
       "      <td>0</td>\n",
       "      <td>CVE-1999-0002</td>\n",
       "      <td>1</td>\n",
       "      <td>0</td>\n",
       "      <td>0</td>\n",
       "      <td>0</td>\n",
       "      <td>0</td>\n",
       "      <td>0</td>\n",
       "    </tr>\n",
       "    <tr>\n",
       "      <th>2</th>\n",
       "      <td>0</td>\n",
       "      <td>0</td>\n",
       "      <td>1</td>\n",
       "      <td>0</td>\n",
       "      <td>0</td>\n",
       "      <td>0</td>\n",
       "      <td>0</td>\n",
       "      <td>1</td>\n",
       "      <td>0</td>\n",
       "      <td>1</td>\n",
       "      <td>...</td>\n",
       "      <td>0</td>\n",
       "      <td>0</td>\n",
       "      <td>0</td>\n",
       "      <td>CVE-1999-0003</td>\n",
       "      <td>1</td>\n",
       "      <td>0</td>\n",
       "      <td>0</td>\n",
       "      <td>0</td>\n",
       "      <td>0</td>\n",
       "      <td>0</td>\n",
       "    </tr>\n",
       "    <tr>\n",
       "      <th>3</th>\n",
       "      <td>0</td>\n",
       "      <td>0</td>\n",
       "      <td>1</td>\n",
       "      <td>0</td>\n",
       "      <td>0</td>\n",
       "      <td>0</td>\n",
       "      <td>0</td>\n",
       "      <td>1</td>\n",
       "      <td>0</td>\n",
       "      <td>0</td>\n",
       "      <td>...</td>\n",
       "      <td>0</td>\n",
       "      <td>1</td>\n",
       "      <td>0</td>\n",
       "      <td>CVE-1999-0004</td>\n",
       "      <td>0</td>\n",
       "      <td>0</td>\n",
       "      <td>0</td>\n",
       "      <td>1</td>\n",
       "      <td>0</td>\n",
       "      <td>0</td>\n",
       "    </tr>\n",
       "    <tr>\n",
       "      <th>4</th>\n",
       "      <td>0</td>\n",
       "      <td>0</td>\n",
       "      <td>1</td>\n",
       "      <td>0</td>\n",
       "      <td>0</td>\n",
       "      <td>0</td>\n",
       "      <td>0</td>\n",
       "      <td>1</td>\n",
       "      <td>0</td>\n",
       "      <td>1</td>\n",
       "      <td>...</td>\n",
       "      <td>0</td>\n",
       "      <td>0</td>\n",
       "      <td>0</td>\n",
       "      <td>CVE-1999-0005</td>\n",
       "      <td>1</td>\n",
       "      <td>0</td>\n",
       "      <td>0</td>\n",
       "      <td>0</td>\n",
       "      <td>0</td>\n",
       "      <td>0</td>\n",
       "    </tr>\n",
       "  </tbody>\n",
       "</table>\n",
       "<p>5 rows × 29 columns</p>\n",
       "</div>"
      ],
      "text/plain": [
       "   access_ADJACENT_NETWORK  access_LOCAL  access_NETWORK  access_PHYSICAL  \\\n",
       "0                        0             0               1                0   \n",
       "1                        0             0               1                0   \n",
       "2                        0             0               1                0   \n",
       "3                        0             0               1                0   \n",
       "4                        0             0               1                0   \n",
       "\n",
       "   auth_HIGH  auth_LOW  auth_MULTIPLE  auth_NONE  auth_SINGLE  avail_COMPLETE  \\\n",
       "0          0         0              0          1            0               0   \n",
       "1          0         0              0          1            0               1   \n",
       "2          0         0              0          1            0               1   \n",
       "3          0         0              0          1            0               0   \n",
       "4          0         0              0          1            0               1   \n",
       "\n",
       "      ...      conf_LOW  conf_NONE  conf_PARTIAL             id  \\\n",
       "0     ...             0          1             0  CVE-1999-0001   \n",
       "1     ...             0          0             0  CVE-1999-0002   \n",
       "2     ...             0          0             0  CVE-1999-0003   \n",
       "3     ...             0          1             0  CVE-1999-0004   \n",
       "4     ...             0          0             0  CVE-1999-0005   \n",
       "\n",
       "   integ_COMPLETE  integ_HIGH  integ_LOW  integ_NONE  integ_PARTIAL  \\\n",
       "0               0           0          0           1              0   \n",
       "1               1           0          0           0              0   \n",
       "2               1           0          0           0              0   \n",
       "3               0           0          0           1              0   \n",
       "4               1           0          0           0              0   \n",
       "\n",
       "   metasploit  \n",
       "0           0  \n",
       "1           0  \n",
       "2           0  \n",
       "3           0  \n",
       "4           0  \n",
       "\n",
       "[5 rows x 29 columns]"
      ]
     },
     "execution_count": 3,
     "metadata": {},
     "output_type": "execute_result"
    }
   ],
   "source": [
    "cves_df = pd.read_json(CVES_METASPLOIT_ENCODED)\n",
    "cves_df.head()"
   ]
  },
  {
   "cell_type": "code",
   "execution_count": 7,
   "metadata": {},
   "outputs": [
    {
     "data": {
      "text/plain": [
       "0    101310\n",
       "1      1637\n",
       "Name: metasploit, dtype: int64"
      ]
     },
     "execution_count": 7,
     "metadata": {},
     "output_type": "execute_result"
    }
   ],
   "source": [
    "cves_df['metasploit'].value_counts()"
   ]
  },
  {
   "cell_type": "code",
   "execution_count": 6,
   "metadata": {},
   "outputs": [
    {
     "data": {
      "text/plain": [
       "<matplotlib.axes._subplots.AxesSubplot at 0x201d5082400>"
      ]
     },
     "execution_count": 6,
     "metadata": {},
     "output_type": "execute_result"
    },
    {
     "data": {
      "image/png": "[encoded data removed]",
      "text/plain": [
       "<Figure size 432x288 with 1 Axes>"
      ]
     },
     "metadata": {},
     "output_type": "display_data"
    }
   ],
   "source": [
    "sns.countplot(x='metasploit', data=cves_df)"
   ]
  },
  {
   "cell_type": "code",
   "execution_count": 8,
   "metadata": {
    "scrolled": true
   },
   "outputs": [
    {
     "data": {
      "text/html": [
       "<div>\n",
       "<style scoped>\n",
       "    .dataframe tbody tr th:only-of-type {\n",
       "        vertical-align: middle;\n",
       "    }\n",
       "\n",
       "    .dataframe tbody tr th {\n",
       "        vertical-align: top;\n",
       "    }\n",
       "\n",
       "    .dataframe thead th {\n",
       "        text-align: right;\n",
       "    }\n",
       "</style>\n",
       "<table border=\"1\" class=\"dataframe\">\n",
       "  <thead>\n",
       "    <tr style=\"text-align: right;\">\n",
       "      <th></th>\n",
       "      <th>access_ADJACENT_NETWORK</th>\n",
       "      <th>access_LOCAL</th>\n",
       "      <th>access_NETWORK</th>\n",
       "      <th>access_PHYSICAL</th>\n",
       "      <th>auth_HIGH</th>\n",
       "      <th>auth_LOW</th>\n",
       "      <th>auth_MULTIPLE</th>\n",
       "      <th>auth_NONE</th>\n",
       "      <th>auth_SINGLE</th>\n",
       "      <th>avail_COMPLETE</th>\n",
       "      <th>...</th>\n",
       "      <th>conf_COMPLETE</th>\n",
       "      <th>conf_HIGH</th>\n",
       "      <th>conf_LOW</th>\n",
       "      <th>conf_NONE</th>\n",
       "      <th>conf_PARTIAL</th>\n",
       "      <th>integ_COMPLETE</th>\n",
       "      <th>integ_HIGH</th>\n",
       "      <th>integ_LOW</th>\n",
       "      <th>integ_NONE</th>\n",
       "      <th>integ_PARTIAL</th>\n",
       "    </tr>\n",
       "    <tr>\n",
       "      <th>metasploit</th>\n",
       "      <th></th>\n",
       "      <th></th>\n",
       "      <th></th>\n",
       "      <th></th>\n",
       "      <th></th>\n",
       "      <th></th>\n",
       "      <th></th>\n",
       "      <th></th>\n",
       "      <th></th>\n",
       "      <th></th>\n",
       "      <th></th>\n",
       "      <th></th>\n",
       "      <th></th>\n",
       "      <th></th>\n",
       "      <th></th>\n",
       "      <th></th>\n",
       "      <th></th>\n",
       "      <th></th>\n",
       "      <th></th>\n",
       "      <th></th>\n",
       "      <th></th>\n",
       "    </tr>\n",
       "  </thead>\n",
       "  <tbody>\n",
       "    <tr>\n",
       "      <th>0</th>\n",
       "      <td>0.023571</td>\n",
       "      <td>0.164989</td>\n",
       "      <td>0.809091</td>\n",
       "      <td>0.002349</td>\n",
       "      <td>0.011282</td>\n",
       "      <td>0.068641</td>\n",
       "      <td>0.000622</td>\n",
       "      <td>0.860715</td>\n",
       "      <td>0.058740</td>\n",
       "      <td>0.170250</td>\n",
       "      <td>...</td>\n",
       "      <td>0.147142</td>\n",
       "      <td>0.169381</td>\n",
       "      <td>0.052660</td>\n",
       "      <td>0.293436</td>\n",
       "      <td>0.33738</td>\n",
       "      <td>0.141753</td>\n",
       "      <td>0.147369</td>\n",
       "      <td>0.047083</td>\n",
       "      <td>0.280397</td>\n",
       "      <td>0.383397</td>\n",
       "    </tr>\n",
       "    <tr>\n",
       "      <th>1</th>\n",
       "      <td>0.005498</td>\n",
       "      <td>0.064142</td>\n",
       "      <td>0.930360</td>\n",
       "      <td>0.000000</td>\n",
       "      <td>0.004887</td>\n",
       "      <td>0.034820</td>\n",
       "      <td>0.000000</td>\n",
       "      <td>0.896151</td>\n",
       "      <td>0.064142</td>\n",
       "      <td>0.465486</td>\n",
       "      <td>...</td>\n",
       "      <td>0.461820</td>\n",
       "      <td>0.139279</td>\n",
       "      <td>0.005498</td>\n",
       "      <td>0.078803</td>\n",
       "      <td>0.31460</td>\n",
       "      <td>0.454490</td>\n",
       "      <td>0.119731</td>\n",
       "      <td>0.006109</td>\n",
       "      <td>0.139279</td>\n",
       "      <td>0.280391</td>\n",
       "    </tr>\n",
       "  </tbody>\n",
       "</table>\n",
       "<p>2 rows × 27 columns</p>\n",
       "</div>"
      ],
      "text/plain": [
       "            access_ADJACENT_NETWORK  access_LOCAL  access_NETWORK  \\\n",
       "metasploit                                                          \n",
       "0                          0.023571      0.164989        0.809091   \n",
       "1                          0.005498      0.064142        0.930360   \n",
       "\n",
       "            access_PHYSICAL  auth_HIGH  auth_LOW  auth_MULTIPLE  auth_NONE  \\\n",
       "metasploit                                                                   \n",
       "0                  0.002349   0.011282  0.068641       0.000622   0.860715   \n",
       "1                  0.000000   0.004887  0.034820       0.000000   0.896151   \n",
       "\n",
       "            auth_SINGLE  avail_COMPLETE      ...        conf_COMPLETE  \\\n",
       "metasploit                                   ...                        \n",
       "0              0.058740        0.170250      ...             0.147142   \n",
       "1              0.064142        0.465486      ...             0.461820   \n",
       "\n",
       "            conf_HIGH  conf_LOW  conf_NONE  conf_PARTIAL  integ_COMPLETE  \\\n",
       "metasploit                                                                 \n",
       "0            0.169381  0.052660   0.293436       0.33738        0.141753   \n",
       "1            0.139279  0.005498   0.078803       0.31460        0.454490   \n",
       "\n",
       "            integ_HIGH  integ_LOW  integ_NONE  integ_PARTIAL  \n",
       "metasploit                                                    \n",
       "0             0.147369   0.047083    0.280397       0.383397  \n",
       "1             0.119731   0.006109    0.139279       0.280391  \n",
       "\n",
       "[2 rows x 27 columns]"
      ]
     },
     "execution_count": 8,
     "metadata": {},
     "output_type": "execute_result"
    }
   ],
   "source": [
    "cves_df.groupby('metasploit').mean()"
   ]
  },
  {
   "cell_type": "code",
   "execution_count": 11,
   "metadata": {},
   "outputs": [
    {
     "data": {
      "text/plain": [
       "<matplotlib.axes._subplots.AxesSubplot at 0x201d7eab080>"
      ]
     },
     "execution_count": 11,
     "metadata": {},
     "output_type": "execute_result"
    },
    {
     "data": {
      "image/png": "[encoded data removed]",
      "text/plain": [
       "<Figure size 432x288 with 2 Axes>"
      ]
     },
     "metadata": {},
     "output_type": "display_data"
    }
   ],
   "source": [
    "sns.heatmap(cves_df.corr())\n"
   ]
  },
  {
   "cell_type": "code",
   "execution_count": 29,
   "metadata": {},
   "outputs": [
    {
     "data": {
      "text/plain": [
       "Index(['access_ADJACENT_NETWORK', 'access_LOCAL', 'access_NETWORK',\n",
       "       'access_PHYSICAL', 'auth_HIGH', 'auth_LOW', 'auth_MULTIPLE',\n",
       "       'auth_NONE', 'auth_SINGLE', 'avail_COMPLETE', 'avail_HIGH', 'avail_LOW',\n",
       "       'avail_NONE', 'avail_PARTIAL', 'comp_HIGH', 'comp_LOW', 'comp_MEDIUM',\n",
       "       'conf_COMPLETE', 'conf_HIGH', 'conf_LOW', 'conf_NONE', 'conf_PARTIAL',\n",
       "       'id', 'integ_COMPLETE', 'integ_HIGH', 'integ_LOW', 'integ_NONE',\n",
       "       'integ_PARTIAL', 'metasploit'],\n",
       "      dtype='object')"
      ]
     },
     "execution_count": 29,
     "metadata": {},
     "output_type": "execute_result"
    }
   ],
   "source": [
    "cves_df.columns"
   ]
  },
  {
   "cell_type": "code",
   "execution_count": 31,
   "metadata": {},
   "outputs": [],
   "source": [
    "X = cves_df.drop(['metasploit', 'id'], axis=1)\n",
    "y = cves_df['metasploit']\n",
    "X_train, X_test, y_train, y_test = train_test_split(X, y, random_state=0)"
   ]
  },
  {
   "cell_type": "code",
   "execution_count": 32,
   "metadata": {},
   "outputs": [
    {
     "data": {
      "text/plain": [
       "0.01563269006605362"
      ]
     },
     "execution_count": 32,
     "metadata": {},
     "output_type": "execute_result"
    }
   ],
   "source": [
    "y_train.mean()"
   ]
  },
  {
   "cell_type": "code",
   "execution_count": 33,
   "metadata": {},
   "outputs": [
    {
     "data": {
      "text/plain": [
       "0.01670746396238878"
      ]
     },
     "execution_count": 33,
     "metadata": {},
     "output_type": "execute_result"
    }
   ],
   "source": [
    "y_test.mean()"
   ]
  },
  {
   "cell_type": "code",
   "execution_count": 46,
   "metadata": {},
   "outputs": [
    {
     "data": {
      "text/plain": [
       "LogisticRegression(C=1.0, class_weight='balanced', dual=False,\n",
       "          fit_intercept=True, intercept_scaling=1, max_iter=100,\n",
       "          multi_class='ovr', n_jobs=1, penalty='l2', random_state=0,\n",
       "          solver='liblinear', tol=0.0001, verbose=0, warm_start=False)"
      ]
     },
     "execution_count": 46,
     "metadata": {},
     "output_type": "execute_result"
    }
   ],
   "source": [
    "classifier = LogisticRegression(random_state=0, class_weight=\"balanced\")\n",
    "classifier.fit(X_train, y_train)"
   ]
  },
  {
   "cell_type": "code",
   "execution_count": 49,
   "metadata": {},
   "outputs": [],
   "source": [
    "y_pred = classifier.predict(X_test)\n"
   ]
  },
  {
   "cell_type": "code",
   "execution_count": 54,
   "metadata": {},
   "outputs": [
    {
     "data": {
      "text/html": [
       "<div>\n",
       "<style scoped>\n",
       "    .dataframe tbody tr th:only-of-type {\n",
       "        vertical-align: middle;\n",
       "    }\n",
       "\n",
       "    .dataframe tbody tr th {\n",
       "        vertical-align: top;\n",
       "    }\n",
       "\n",
       "    .dataframe thead th {\n",
       "        text-align: right;\n",
       "    }\n",
       "</style>\n",
       "<table border=\"1\" class=\"dataframe\">\n",
       "  <thead>\n",
       "    <tr style=\"text-align: right;\">\n",
       "      <th>Predicted</th>\n",
       "      <th>0</th>\n",
       "      <th>1</th>\n",
       "      <th>All</th>\n",
       "    </tr>\n",
       "    <tr>\n",
       "      <th>True</th>\n",
       "      <th></th>\n",
       "      <th></th>\n",
       "      <th></th>\n",
       "    </tr>\n",
       "  </thead>\n",
       "  <tbody>\n",
       "    <tr>\n",
       "      <th>0</th>\n",
       "      <td>15592</td>\n",
       "      <td>9715</td>\n",
       "      <td>25307</td>\n",
       "    </tr>\n",
       "    <tr>\n",
       "      <th>1</th>\n",
       "      <td>102</td>\n",
       "      <td>328</td>\n",
       "      <td>430</td>\n",
       "    </tr>\n",
       "    <tr>\n",
       "      <th>All</th>\n",
       "      <td>15694</td>\n",
       "      <td>10043</td>\n",
       "      <td>25737</td>\n",
       "    </tr>\n",
       "  </tbody>\n",
       "</table>\n",
       "</div>"
      ],
      "text/plain": [
       "Predicted      0      1    All\n",
       "True                          \n",
       "0          15592   9715  25307\n",
       "1            102    328    430\n",
       "All        15694  10043  25737"
      ]
     },
     "execution_count": 54,
     "metadata": {},
     "output_type": "execute_result"
    }
   ],
   "source": [
    "pd.crosstab(y_test, y_pred, rownames=['True'], colnames=['Predicted'], margins=True)\n"
   ]
  },
  {
   "cell_type": "code",
   "execution_count": 50,
   "metadata": {},
   "outputs": [
    {
     "name": "stdout",
     "output_type": "stream",
     "text": [
      "[[15592  9715]\n",
      " [  102   328]]\n"
     ]
    }
   ],
   "source": [
    "print(confusion_matrix(y_test, y_pred))"
   ]
  },
  {
   "cell_type": "code",
   "execution_count": 51,
   "metadata": {},
   "outputs": [
    {
     "name": "stdout",
     "output_type": "stream",
     "text": [
      "Accuracy of logistic regression classifier on test set: 0.62\n"
     ]
    }
   ],
   "source": [
    "print('Accuracy of logistic regression classifier on test set: {:.2f}'.format(classifier.score(X_test, y_test)))"
   ]
  },
  {
   "cell_type": "code",
   "execution_count": 52,
   "metadata": {
    "scrolled": true
   },
   "outputs": [
    {
     "name": "stdout",
     "output_type": "stream",
     "text": [
      "             precision    recall  f1-score   support\n",
      "\n",
      "          0       0.99      0.62      0.76     25307\n",
      "          1       0.03      0.76      0.06       430\n",
      "\n",
      "avg / total       0.98      0.62      0.75     25737\n",
      "\n"
     ]
    }
   ],
   "source": [
    "print(classification_report(y_test, y_pred))"
   ]
  },
  {
   "cell_type": "markdown",
   "metadata": {},
   "source": [
    "out of the 25737 CVEs we have only 430 of them required us to inspect them, the predictor said to inspect 10043, so we looked at nearly 40%, or another way, we had a 60% reduction in cves to inspect.  That's good, but not great, specially since it resulted in missing nearly 25% of the positives: 102 were exploited without triggering a positive.  Much like SPAM, we want to minimize False Negatives"
   ]
  },
  {
   "cell_type": "code",
   "execution_count": 59,
   "metadata": {
    "collapsed": true
   },
   "outputs": [],
   "source": [
    "y_pred_prob = classifier.predict_proba(X_test)"
   ]
  },
  {
   "cell_type": "code",
   "execution_count": 107,
   "metadata": {},
   "outputs": [
    {
     "data": {
      "text/plain": [
       "(102, 10043)"
      ]
     },
     "execution_count": 107,
     "metadata": {},
     "output_type": "execute_result"
    }
   ],
   "source": [
    "y_pred_thresh = [1 if pred[1] > thresh else 0 for pred in y_pred_prob]\n",
    "matrix = confusion_matrix(y_test, y_pred_thresh)\n",
    "(matrix[1][0], matrix[0][1]+matrix[1][1])"
   ]
  },
  {
   "cell_type": "code",
   "execution_count": 156,
   "metadata": {},
   "outputs": [],
   "source": [
    "def get_fp(thresh):\n",
    "    y_pred_thresh = [1 if pred[1] > thresh else 0 for pred in y_pred_prob]\n",
    "    matrix = confusion_matrix(y_test, y_pred_thresh)\n",
    "    return (matrix[1][1], matrix[0][1]+matrix[1][1])\n",
    "\n",
    "fp_x = []\n",
    "fp_y = []\n",
    "pos_y = []\n",
    "for a in range(100, 0, -1):\n",
    "    thresh = a/100\n",
    "    fp = get_fp(thresh)\n",
    "    fp_y.append(fp[0])\n",
    "    pos_y.append(fp[1])\n",
    "    fp_x.append(thresh)"
   ]
  },
  {
   "cell_type": "code",
   "execution_count": 174,
   "metadata": {},
   "outputs": [
    {
     "data": {
      "image/png": "[encoded data removed]",
      "text/plain": [
       "<Figure size 1440x720 with 2 Axes>"
      ]
     },
     "metadata": {},
     "output_type": "display_data"
    }
   ],
   "source": [
    "\n",
    "fig, ax1 = plt.subplots(figsize=(20,10))\n",
    "\n",
    "ax2 = ax1.twinx()\n",
    "ax1.plot(fp_x, fp_y, 'g')\n",
    "ax2.plot(fp_x, pos_y, 'b')\n",
    "\n",
    "ax1.set_ylabel('Potential Exploits Inspected', color='g')\n",
    "ax2.set_ylabel('Actual Exploits Inspected', color='b')\n",
    "xticks = [x/100 for x in range(0,100,5)]\n",
    "plt.xticks(xticks)\n",
    "#plt.axvline(x=0.15)\n",
    "ax1.grid(True)\n",
    "\n",
    "#plt.axvline(x=0.5)\n",
    "#plt.plot(x[0], y[0], 'g*')"
   ]
  },
  {
   "cell_type": "code",
   "execution_count": 140,
   "metadata": {},
   "outputs": [
    {
     "data": {
      "text/plain": [
       "array([0, 0, 0, ..., 0, 0, 0], dtype=int64)"
      ]
     },
     "execution_count": 140,
     "metadata": {},
     "output_type": "execute_result"
    }
   ],
   "source": [
    "y_pred"
   ]
  },
  {
   "cell_type": "code",
   "execution_count": 176,
   "metadata": {},
   "outputs": [
    {
     "data": {
      "text/html": [
       "<div>\n",
       "<style scoped>\n",
       "    .dataframe tbody tr th:only-of-type {\n",
       "        vertical-align: middle;\n",
       "    }\n",
       "\n",
       "    .dataframe tbody tr th {\n",
       "        vertical-align: top;\n",
       "    }\n",
       "\n",
       "    .dataframe thead th {\n",
       "        text-align: right;\n",
       "    }\n",
       "</style>\n",
       "<table border=\"1\" class=\"dataframe\">\n",
       "  <thead>\n",
       "    <tr style=\"text-align: right;\">\n",
       "      <th>Predicted</th>\n",
       "      <th>0</th>\n",
       "      <th>1</th>\n",
       "      <th>All</th>\n",
       "    </tr>\n",
       "    <tr>\n",
       "      <th>True</th>\n",
       "      <th></th>\n",
       "      <th></th>\n",
       "      <th></th>\n",
       "    </tr>\n",
       "  </thead>\n",
       "  <tbody>\n",
       "    <tr>\n",
       "      <th>0</th>\n",
       "      <td>9603</td>\n",
       "      <td>15704</td>\n",
       "      <td>25307</td>\n",
       "    </tr>\n",
       "    <tr>\n",
       "      <th>1</th>\n",
       "      <td>30</td>\n",
       "      <td>400</td>\n",
       "      <td>430</td>\n",
       "    </tr>\n",
       "    <tr>\n",
       "      <th>All</th>\n",
       "      <td>9633</td>\n",
       "      <td>16104</td>\n",
       "      <td>25737</td>\n",
       "    </tr>\n",
       "  </tbody>\n",
       "</table>\n",
       "</div>"
      ],
      "text/plain": [
       "Predicted     0      1    All\n",
       "True                         \n",
       "0          9603  15704  25307\n",
       "1            30    400    430\n",
       "All        9633  16104  25737"
      ]
     },
     "metadata": {},
     "output_type": "display_data"
    }
   ],
   "source": [
    "thresh = 0.3\n",
    "y_pred_thresh = np.array([1 if pred[1] > thresh else 0 for pred in y_pred_prob])\n",
    "matrix = confusion_matrix(y_test, y_pred_thresh)\n",
    "display(pd.crosstab(y_test, y_pred_thresh, rownames=['True'], colnames=['Predicted'], margins=True))\n"
   ]
  },
  {
   "cell_type": "code",
   "execution_count": 177,
   "metadata": {},
   "outputs": [
    {
     "name": "stdout",
     "output_type": "stream",
     "text": [
      "             precision    recall  f1-score   support\n",
      "\n",
      "          0       1.00      0.38      0.55     25307\n",
      "          1       0.02      0.93      0.05       430\n",
      "\n",
      "avg / total       0.98      0.39      0.54     25737\n",
      "\n"
     ]
    }
   ],
   "source": [
    "print(classification_report(y_test, y_pred_thresh))"
   ]
  }
 ],
 "metadata": {
  "kernelspec": {
   "display_name": "Python (capstone)",
   "language": "python",
   "name": "capstone"
  },
  "language_info": {
   "codemirror_mode": {
    "name": "ipython",
    "version": 3
   },
   "file_extension": ".py",
   "mimetype": "text/x-python",
   "name": "python",
   "nbconvert_exporter": "python",
   "pygments_lexer": "ipython3",
   "version": "3.7.0"
  }
 },
 "nbformat": 4,
 "nbformat_minor": 2
}
