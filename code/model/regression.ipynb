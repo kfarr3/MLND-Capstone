{
 "cells": [
  {
   "cell_type": "markdown",
   "metadata": {},
   "source": [
    "# Purpose\n",
    "\n",
    "Attempt to perform a logistic regression on the cves/metasploit dataset"
   ]
  },
  {
   "cell_type": "code",
   "execution_count": 3,
   "metadata": {},
   "outputs": [],
   "source": [
    "import pandas as pd\n",
    "import seaborn as sns\n",
    "import matplotlib.pyplot as plt \n",
    "import numpy as np\n",
    "\n",
    "from sklearn.model_selection import train_test_split\n",
    "from sklearn.linear_model import LogisticRegression\n",
    "from sklearn.metrics import confusion_matrix, fbeta_score, classification_report\n",
    "from sklearn.model_selection import GridSearchCV\n",
    "from sklearn.metrics import fbeta_score, make_scorer\n",
    "\n",
    "\n",
    "%matplotlib inline\n"
   ]
  },
  {
   "cell_type": "code",
   "execution_count": 4,
   "metadata": {},
   "outputs": [],
   "source": [
    "CVES_METASPLOIT_ENCODED = '../../data/processed/cves_metasplot_encoded.json'"
   ]
  },
  {
   "cell_type": "code",
   "execution_count": 5,
   "metadata": {},
   "outputs": [
    {
     "data": {
      "text/html": [
       "<div>\n",
       "<style scoped>\n",
       "    .dataframe tbody tr th:only-of-type {\n",
       "        vertical-align: middle;\n",
       "    }\n",
       "\n",
       "    .dataframe tbody tr th {\n",
       "        vertical-align: top;\n",
       "    }\n",
       "\n",
       "    .dataframe thead th {\n",
       "        text-align: right;\n",
       "    }\n",
       "</style>\n",
       "<table border=\"1\" class=\"dataframe\">\n",
       "  <thead>\n",
       "    <tr style=\"text-align: right;\">\n",
       "      <th></th>\n",
       "      <th>id</th>\n",
       "      <th>metasploit</th>\n",
       "      <th>access_ADJACENT</th>\n",
       "      <th>access_LOCAL</th>\n",
       "      <th>access_NETWORK</th>\n",
       "      <th>auth_HIGH</th>\n",
       "      <th>auth_LOW</th>\n",
       "      <th>auth_NONE</th>\n",
       "      <th>avail_HIGH</th>\n",
       "      <th>avail_LOW</th>\n",
       "      <th>avail_NONE</th>\n",
       "      <th>comp_HIGH</th>\n",
       "      <th>comp_LOW</th>\n",
       "      <th>conf_HIGH</th>\n",
       "      <th>conf_LOW</th>\n",
       "      <th>conf_NONE</th>\n",
       "      <th>integ_HIGH</th>\n",
       "      <th>integ_LOW</th>\n",
       "      <th>integ_NONE</th>\n",
       "    </tr>\n",
       "  </thead>\n",
       "  <tbody>\n",
       "    <tr>\n",
       "      <th>0</th>\n",
       "      <td>CVE-1999-0001</td>\n",
       "      <td>0</td>\n",
       "      <td>0</td>\n",
       "      <td>0</td>\n",
       "      <td>1</td>\n",
       "      <td>0</td>\n",
       "      <td>0</td>\n",
       "      <td>1</td>\n",
       "      <td>0</td>\n",
       "      <td>1</td>\n",
       "      <td>0</td>\n",
       "      <td>0</td>\n",
       "      <td>1</td>\n",
       "      <td>0</td>\n",
       "      <td>0</td>\n",
       "      <td>1</td>\n",
       "      <td>0</td>\n",
       "      <td>0</td>\n",
       "      <td>1</td>\n",
       "    </tr>\n",
       "    <tr>\n",
       "      <th>1</th>\n",
       "      <td>CVE-1999-0002</td>\n",
       "      <td>0</td>\n",
       "      <td>0</td>\n",
       "      <td>0</td>\n",
       "      <td>1</td>\n",
       "      <td>0</td>\n",
       "      <td>0</td>\n",
       "      <td>1</td>\n",
       "      <td>1</td>\n",
       "      <td>0</td>\n",
       "      <td>0</td>\n",
       "      <td>0</td>\n",
       "      <td>1</td>\n",
       "      <td>1</td>\n",
       "      <td>0</td>\n",
       "      <td>0</td>\n",
       "      <td>1</td>\n",
       "      <td>0</td>\n",
       "      <td>0</td>\n",
       "    </tr>\n",
       "    <tr>\n",
       "      <th>2</th>\n",
       "      <td>CVE-1999-0003</td>\n",
       "      <td>0</td>\n",
       "      <td>0</td>\n",
       "      <td>0</td>\n",
       "      <td>1</td>\n",
       "      <td>0</td>\n",
       "      <td>0</td>\n",
       "      <td>1</td>\n",
       "      <td>1</td>\n",
       "      <td>0</td>\n",
       "      <td>0</td>\n",
       "      <td>0</td>\n",
       "      <td>1</td>\n",
       "      <td>1</td>\n",
       "      <td>0</td>\n",
       "      <td>0</td>\n",
       "      <td>1</td>\n",
       "      <td>0</td>\n",
       "      <td>0</td>\n",
       "    </tr>\n",
       "    <tr>\n",
       "      <th>3</th>\n",
       "      <td>CVE-1999-0004</td>\n",
       "      <td>0</td>\n",
       "      <td>0</td>\n",
       "      <td>0</td>\n",
       "      <td>1</td>\n",
       "      <td>0</td>\n",
       "      <td>0</td>\n",
       "      <td>1</td>\n",
       "      <td>0</td>\n",
       "      <td>1</td>\n",
       "      <td>0</td>\n",
       "      <td>0</td>\n",
       "      <td>1</td>\n",
       "      <td>0</td>\n",
       "      <td>0</td>\n",
       "      <td>1</td>\n",
       "      <td>0</td>\n",
       "      <td>0</td>\n",
       "      <td>1</td>\n",
       "    </tr>\n",
       "    <tr>\n",
       "      <th>4</th>\n",
       "      <td>CVE-1999-0005</td>\n",
       "      <td>0</td>\n",
       "      <td>0</td>\n",
       "      <td>0</td>\n",
       "      <td>1</td>\n",
       "      <td>0</td>\n",
       "      <td>0</td>\n",
       "      <td>1</td>\n",
       "      <td>1</td>\n",
       "      <td>0</td>\n",
       "      <td>0</td>\n",
       "      <td>0</td>\n",
       "      <td>1</td>\n",
       "      <td>1</td>\n",
       "      <td>0</td>\n",
       "      <td>0</td>\n",
       "      <td>1</td>\n",
       "      <td>0</td>\n",
       "      <td>0</td>\n",
       "    </tr>\n",
       "  </tbody>\n",
       "</table>\n",
       "</div>"
      ],
      "text/plain": [
       "              id  metasploit  access_ADJACENT  access_LOCAL  access_NETWORK  \\\n",
       "0  CVE-1999-0001           0                0             0               1   \n",
       "1  CVE-1999-0002           0                0             0               1   \n",
       "2  CVE-1999-0003           0                0             0               1   \n",
       "3  CVE-1999-0004           0                0             0               1   \n",
       "4  CVE-1999-0005           0                0             0               1   \n",
       "\n",
       "   auth_HIGH  auth_LOW  auth_NONE  avail_HIGH  avail_LOW  avail_NONE  \\\n",
       "0          0         0          1           0          1           0   \n",
       "1          0         0          1           1          0           0   \n",
       "2          0         0          1           1          0           0   \n",
       "3          0         0          1           0          1           0   \n",
       "4          0         0          1           1          0           0   \n",
       "\n",
       "   comp_HIGH  comp_LOW  conf_HIGH  conf_LOW  conf_NONE  integ_HIGH  integ_LOW  \\\n",
       "0          0         1          0         0          1           0          0   \n",
       "1          0         1          1         0          0           1          0   \n",
       "2          0         1          1         0          0           1          0   \n",
       "3          0         1          0         0          1           0          0   \n",
       "4          0         1          1         0          0           1          0   \n",
       "\n",
       "   integ_NONE  \n",
       "0           1  \n",
       "1           0  \n",
       "2           0  \n",
       "3           1  \n",
       "4           0  "
      ]
     },
     "execution_count": 5,
     "metadata": {},
     "output_type": "execute_result"
    }
   ],
   "source": [
    "cves_df = pd.read_json(CVES_METASPLOIT_ENCODED)\n",
    "cves_df.head()"
   ]
  },
  {
   "cell_type": "code",
   "execution_count": 6,
   "metadata": {},
   "outputs": [
    {
     "data": {
      "text/plain": [
       "0    126517\n",
       "1      1833\n",
       "Name: metasploit, dtype: int64"
      ]
     },
     "execution_count": 6,
     "metadata": {},
     "output_type": "execute_result"
    }
   ],
   "source": [
    "cves_df['metasploit'].value_counts()"
   ]
  },
  {
   "cell_type": "code",
   "execution_count": 7,
   "metadata": {},
   "outputs": [
    {
     "data": {
      "text/plain": [
       "<matplotlib.axes._subplots.AxesSubplot at 0x1fe569fc2c8>"
      ]
     },
     "execution_count": 7,
     "metadata": {},
     "output_type": "execute_result"
    },
    {
     "data": {
      "image/png": "[encoded data removed]",
      "text/plain": [
       "<Figure size 432x288 with 1 Axes>"
      ]
     },
     "metadata": {
      "needs_background": "light"
     },
     "output_type": "display_data"
    }
   ],
   "source": [
    "sns.countplot(x='metasploit', data=cves_df)"
   ]
  },
  {
   "cell_type": "code",
   "execution_count": 9,
   "metadata": {
    "scrolled": true
   },
   "outputs": [
    {
     "data": {
      "text/html": [
       "<div>\n",
       "<style scoped>\n",
       "    .dataframe tbody tr th:only-of-type {\n",
       "        vertical-align: middle;\n",
       "    }\n",
       "\n",
       "    .dataframe tbody tr th {\n",
       "        vertical-align: top;\n",
       "    }\n",
       "\n",
       "    .dataframe thead th {\n",
       "        text-align: right;\n",
       "    }\n",
       "</style>\n",
       "<table border=\"1\" class=\"dataframe\">\n",
       "  <thead>\n",
       "    <tr style=\"text-align: right;\">\n",
       "      <th></th>\n",
       "      <th>access_ADJACENT</th>\n",
       "      <th>access_LOCAL</th>\n",
       "      <th>access_NETWORK</th>\n",
       "      <th>auth_HIGH</th>\n",
       "      <th>auth_LOW</th>\n",
       "      <th>auth_NONE</th>\n",
       "      <th>avail_HIGH</th>\n",
       "      <th>avail_LOW</th>\n",
       "      <th>avail_NONE</th>\n",
       "      <th>comp_HIGH</th>\n",
       "      <th>comp_LOW</th>\n",
       "      <th>conf_HIGH</th>\n",
       "      <th>conf_LOW</th>\n",
       "      <th>conf_NONE</th>\n",
       "      <th>integ_HIGH</th>\n",
       "      <th>integ_LOW</th>\n",
       "      <th>integ_NONE</th>\n",
       "    </tr>\n",
       "    <tr>\n",
       "      <th>metasploit</th>\n",
       "      <th></th>\n",
       "      <th></th>\n",
       "      <th></th>\n",
       "      <th></th>\n",
       "      <th></th>\n",
       "      <th></th>\n",
       "      <th></th>\n",
       "      <th></th>\n",
       "      <th></th>\n",
       "      <th></th>\n",
       "      <th></th>\n",
       "      <th></th>\n",
       "      <th></th>\n",
       "      <th></th>\n",
       "      <th></th>\n",
       "      <th></th>\n",
       "      <th></th>\n",
       "    </tr>\n",
       "  </thead>\n",
       "  <tbody>\n",
       "    <tr>\n",
       "      <th>0</th>\n",
       "      <td>0.022677</td>\n",
       "      <td>0.172720</td>\n",
       "      <td>0.804603</td>\n",
       "      <td>0.018622</td>\n",
       "      <td>0.149679</td>\n",
       "      <td>0.831699</td>\n",
       "      <td>0.372045</td>\n",
       "      <td>0.281614</td>\n",
       "      <td>0.346341</td>\n",
       "      <td>0.061992</td>\n",
       "      <td>0.938008</td>\n",
       "      <td>0.346823</td>\n",
       "      <td>0.367935</td>\n",
       "      <td>0.285242</td>\n",
       "      <td>0.315950</td>\n",
       "      <td>0.399251</td>\n",
       "      <td>0.284800</td>\n",
       "    </tr>\n",
       "    <tr>\n",
       "      <th>1</th>\n",
       "      <td>0.006001</td>\n",
       "      <td>0.081833</td>\n",
       "      <td>0.912166</td>\n",
       "      <td>0.008729</td>\n",
       "      <td>0.117840</td>\n",
       "      <td>0.873432</td>\n",
       "      <td>0.606110</td>\n",
       "      <td>0.270595</td>\n",
       "      <td>0.123295</td>\n",
       "      <td>0.049100</td>\n",
       "      <td>0.950900</td>\n",
       "      <td>0.624113</td>\n",
       "      <td>0.301691</td>\n",
       "      <td>0.074195</td>\n",
       "      <td>0.593562</td>\n",
       "      <td>0.265139</td>\n",
       "      <td>0.141298</td>\n",
       "    </tr>\n",
       "  </tbody>\n",
       "</table>\n",
       "</div>"
      ],
      "text/plain": [
       "            access_ADJACENT  access_LOCAL  access_NETWORK  auth_HIGH  \\\n",
       "metasploit                                                             \n",
       "0                  0.022677      0.172720        0.804603   0.018622   \n",
       "1                  0.006001      0.081833        0.912166   0.008729   \n",
       "\n",
       "            auth_LOW  auth_NONE  avail_HIGH  avail_LOW  avail_NONE  comp_HIGH  \\\n",
       "metasploit                                                                      \n",
       "0           0.149679   0.831699    0.372045   0.281614    0.346341   0.061992   \n",
       "1           0.117840   0.873432    0.606110   0.270595    0.123295   0.049100   \n",
       "\n",
       "            comp_LOW  conf_HIGH  conf_LOW  conf_NONE  integ_HIGH  integ_LOW  \\\n",
       "metasploit                                                                    \n",
       "0           0.938008   0.346823  0.367935   0.285242    0.315950   0.399251   \n",
       "1           0.950900   0.624113  0.301691   0.074195    0.593562   0.265139   \n",
       "\n",
       "            integ_NONE  \n",
       "metasploit              \n",
       "0             0.284800  \n",
       "1             0.141298  "
      ]
     },
     "execution_count": 9,
     "metadata": {},
     "output_type": "execute_result"
    }
   ],
   "source": [
    "cves_df.groupby('metasploit').mean()"
   ]
  },
  {
   "cell_type": "code",
   "execution_count": 10,
   "metadata": {},
   "outputs": [
    {
     "data": {
      "image/png": "[encoded data removed]",
      "text/plain": [
       "<Figure size 864x720 with 2 Axes>"
      ]
     },
     "metadata": {
      "needs_background": "light"
     },
     "output_type": "display_data"
    }
   ],
   "source": [
    "fig, ax = plt.subplots(figsize=(12,10))         # Sample figsize in inches\n",
    "\n",
    "sns.heatmap(cves_df.corr(), ax=ax)\n",
    "plt.savefig('../../docs/img/corr_heatmap.png')"
   ]
  },
  {
   "cell_type": "code",
   "execution_count": 11,
   "metadata": {},
   "outputs": [
    {
     "data": {
      "text/plain": [
       "Index(['id', 'metasploit', 'access_ADJACENT', 'access_LOCAL', 'access_NETWORK',\n",
       "       'auth_HIGH', 'auth_LOW', 'auth_NONE', 'avail_HIGH', 'avail_LOW',\n",
       "       'avail_NONE', 'comp_HIGH', 'comp_LOW', 'conf_HIGH', 'conf_LOW',\n",
       "       'conf_NONE', 'integ_HIGH', 'integ_LOW', 'integ_NONE'],\n",
       "      dtype='object')"
      ]
     },
     "execution_count": 11,
     "metadata": {},
     "output_type": "execute_result"
    }
   ],
   "source": [
    "cves_df.columns"
   ]
  },
  {
   "cell_type": "code",
   "execution_count": 12,
   "metadata": {},
   "outputs": [],
   "source": [
    "X = cves_df.drop(['metasploit', 'id'], axis=1)\n",
    "y = cves_df['metasploit']\n",
    "X_train, X_test, y_train, y_test = train_test_split(X, y, random_state=0)"
   ]
  },
  {
   "cell_type": "code",
   "execution_count": 13,
   "metadata": {},
   "outputs": [
    {
     "data": {
      "text/plain": [
       "0.014387816583906423"
      ]
     },
     "execution_count": 13,
     "metadata": {},
     "output_type": "execute_result"
    }
   ],
   "source": [
    "y_train.mean()"
   ]
  },
  {
   "cell_type": "code",
   "execution_count": 14,
   "metadata": {},
   "outputs": [
    {
     "data": {
      "text/plain": [
       "0.013961605584642234"
      ]
     },
     "execution_count": 14,
     "metadata": {},
     "output_type": "execute_result"
    }
   ],
   "source": [
    "y_test.mean()"
   ]
  },
  {
   "cell_type": "code",
   "execution_count": 15,
   "metadata": {},
   "outputs": [
    {
     "data": {
      "text/plain": [
       "LogisticRegression(C=1.0, class_weight='balanced', dual=False,\n",
       "                   fit_intercept=True, intercept_scaling=1, l1_ratio=None,\n",
       "                   max_iter=100, multi_class='auto', n_jobs=None, penalty='l2',\n",
       "                   random_state=0, solver='lbfgs', tol=0.0001, verbose=0,\n",
       "                   warm_start=False)"
      ]
     },
     "execution_count": 15,
     "metadata": {},
     "output_type": "execute_result"
    }
   ],
   "source": [
    "classifier = LogisticRegression(random_state=0, class_weight=\"balanced\")\n",
    "classifier.fit(X_train, y_train)"
   ]
  },
  {
   "cell_type": "code",
   "execution_count": 16,
   "metadata": {},
   "outputs": [],
   "source": [
    "y_pred = classifier.predict(X_test)"
   ]
  },
  {
   "cell_type": "code",
   "execution_count": 17,
   "metadata": {},
   "outputs": [
    {
     "data": {
      "text/html": [
       "<div>\n",
       "<style scoped>\n",
       "    .dataframe tbody tr th:only-of-type {\n",
       "        vertical-align: middle;\n",
       "    }\n",
       "\n",
       "    .dataframe tbody tr th {\n",
       "        vertical-align: top;\n",
       "    }\n",
       "\n",
       "    .dataframe thead th {\n",
       "        text-align: right;\n",
       "    }\n",
       "</style>\n",
       "<table border=\"1\" class=\"dataframe\">\n",
       "  <thead>\n",
       "    <tr style=\"text-align: right;\">\n",
       "      <th>Predicted</th>\n",
       "      <th>0</th>\n",
       "      <th>1</th>\n",
       "      <th>All</th>\n",
       "    </tr>\n",
       "    <tr>\n",
       "      <th>True</th>\n",
       "      <th></th>\n",
       "      <th></th>\n",
       "      <th></th>\n",
       "    </tr>\n",
       "  </thead>\n",
       "  <tbody>\n",
       "    <tr>\n",
       "      <th>0</th>\n",
       "      <td>19702</td>\n",
       "      <td>11938</td>\n",
       "      <td>31640</td>\n",
       "    </tr>\n",
       "    <tr>\n",
       "      <th>1</th>\n",
       "      <td>128</td>\n",
       "      <td>320</td>\n",
       "      <td>448</td>\n",
       "    </tr>\n",
       "    <tr>\n",
       "      <th>All</th>\n",
       "      <td>19830</td>\n",
       "      <td>12258</td>\n",
       "      <td>32088</td>\n",
       "    </tr>\n",
       "  </tbody>\n",
       "</table>\n",
       "</div>"
      ],
      "text/plain": [
       "Predicted      0      1    All\n",
       "True                          \n",
       "0          19702  11938  31640\n",
       "1            128    320    448\n",
       "All        19830  12258  32088"
      ]
     },
     "execution_count": 17,
     "metadata": {},
     "output_type": "execute_result"
    }
   ],
   "source": [
    "pd.crosstab(y_test, y_pred, rownames=['True'], colnames=['Predicted'], margins=True)"
   ]
  },
  {
   "cell_type": "code",
   "execution_count": 18,
   "metadata": {},
   "outputs": [
    {
     "name": "stdout",
     "output_type": "stream",
     "text": [
      "[[19702 11938]\n",
      " [  128   320]]\n"
     ]
    }
   ],
   "source": [
    "print(confusion_matrix(y_test, y_pred))"
   ]
  },
  {
   "cell_type": "code",
   "execution_count": 19,
   "metadata": {},
   "outputs": [
    {
     "name": "stdout",
     "output_type": "stream",
     "text": [
      "Accuracy of logistic regression classifier on test set: 0.62\n"
     ]
    }
   ],
   "source": [
    "print('Accuracy of logistic regression classifier on test set: {:.2f}'.format(classifier.score(X_test, y_test)))"
   ]
  },
  {
   "cell_type": "code",
   "execution_count": 21,
   "metadata": {
    "scrolled": true
   },
   "outputs": [
    {
     "name": "stdout",
     "output_type": "stream",
     "text": [
      "              precision    recall  f1-score   support\n",
      "\n",
      "           0       0.99      0.62      0.77     31640\n",
      "           1       0.03      0.71      0.05       448\n",
      "\n",
      "    accuracy                           0.62     32088\n",
      "   macro avg       0.51      0.67      0.41     32088\n",
      "weighted avg       0.98      0.62      0.76     32088\n",
      "\n"
     ]
    }
   ],
   "source": [
    "print(classification_report(y_test, y_pred))"
   ]
  },
  {
   "cell_type": "markdown",
   "metadata": {},
   "source": [
    "out of the 31640 CVEs we have only 448 of them required us to inspect them, the predictor said to inspect 12258, so we looked at nearly 40%, or another way, we had a 60% reduction in cves to inspect.  That's good, but not great, specially since it resulted in missing nearly 25% of the positives: 128 were exploited without triggering a positive.  Much like SPAM, we want to minimize False Negatives"
   ]
  },
  {
   "cell_type": "code",
   "execution_count": 23,
   "metadata": {},
   "outputs": [],
   "source": [
    "y_pred_prob = classifier.predict_proba(X_test)"
   ]
  },
  {
   "cell_type": "code",
   "execution_count": 24,
   "metadata": {},
   "outputs": [
    {
     "data": {
      "text/plain": [
       "(249, 5932)"
      ]
     },
     "execution_count": 24,
     "metadata": {},
     "output_type": "execute_result"
    }
   ],
   "source": [
    "thresh = .7\n",
    "y_pred_thresh = [1 if pred[1] > thresh else 0 for pred in y_pred_prob]\n",
    "matrix = confusion_matrix(y_test, y_pred_thresh)\n",
    "(matrix[1][0], matrix[0][1]+matrix[1][1])"
   ]
  },
  {
   "cell_type": "code",
   "execution_count": 25,
   "metadata": {},
   "outputs": [],
   "source": [
    "def get_rates(thresh):\n",
    "    y_pred_thresh = [1 if pred[1] > thresh else 0 for pred in y_pred_prob]\n",
    "    matrix = confusion_matrix(y_test, y_pred_thresh)\n",
    "    return matrix\n",
    "\n",
    "results = []\n",
    "for a in range(100, 0, -1):\n",
    "    thresh = a/100\n",
    "    matrix = get_rates(thresh)\n",
    "    results.append((thresh, matrix))"
   ]
  },
  {
   "cell_type": "code",
   "execution_count": 26,
   "metadata": {},
   "outputs": [
    {
     "data": {
      "text/plain": [
       "array([[19702, 11938],\n",
       "       [  128,   320]], dtype=int64)"
      ]
     },
     "execution_count": 26,
     "metadata": {},
     "output_type": "execute_result"
    }
   ],
   "source": [
    "results[50][1]"
   ]
  },
  {
   "cell_type": "code",
   "execution_count": 27,
   "metadata": {},
   "outputs": [
    {
     "data": {
      "image/png": "[encoded data removed]",
      "text/plain": [
       "<Figure size 1080x432 with 2 Axes>"
      ]
     },
     "metadata": {
      "needs_background": "light"
     },
     "output_type": "display_data"
    }
   ],
   "source": [
    "# Lets plot True-Positives against all True\n",
    "title_size=20\n",
    "labelsize=15\n",
    "ticksize=10\n",
    "\n",
    "thresh_x = [x[0] for x in results]\n",
    "tp_y = [x[1][1][1] for x in results]\n",
    "t_y = [x[1][0][1]+x[1][1][1] for x in results]\n",
    "\n",
    "fig, ax1 = plt.subplots(figsize=(15,6))\n",
    "\n",
    "ax2 = ax1.twinx()\n",
    "ax1.plot(thresh_x, tp_y, 'g')\n",
    "ax2.plot(thresh_x, t_y, 'b')\n",
    "\n",
    "plt.title('Prediction Usefulness', fontsize=title_size)\n",
    "ax1.set_ylabel('Predicted True / Actually True', color='g', fontsize=labelsize)\n",
    "ax2.set_ylabel('Predicted True', color='b', fontsize=labelsize)\n",
    "plt.xlabel('Threshold', fontsize=labelsize)\n",
    "xticks = [x/100 for x in range(0,100,5)]\n",
    "plt.xticks(xticks)\n",
    "ax1.grid(True)\n",
    "plt.savefig('../../docs/img/avp.png')"
   ]
  },
  {
   "cell_type": "code",
   "execution_count": 36,
   "metadata": {},
   "outputs": [
    {
     "data": {
      "image/png": "[encoded data removed]",
      "text/plain": [
       "<Figure size 1080x432 with 1 Axes>"
      ]
     },
     "metadata": {
      "needs_background": "light"
     },
     "output_type": "display_data"
    }
   ],
   "source": [
    "# lets plot the ROC curve now\n",
    "# true positive rate (TPR) against the false positive rate (FPR)\n",
    "title_size=20\n",
    "labelsize=15\n",
    "ticksize=10\n",
    "\n",
    "# Num FP / \n",
    "tp_rate_y = [x[1][1][1]/(x[1][1][1]+x[1][1][0]) for x in results]\n",
    "fp_rate_x = [x[1][0][1]/(x[1][0][1]+x[1][0][0]) for x in results]\n",
    "\n",
    "fig, ax1 = plt.subplots(figsize=(15,6))\n",
    "\n",
    "ax1.plot(fp_rate_x, tp_rate_y)\n",
    "ax1.plot([0,1], [0,1])\n",
    "plt.title('ROC', fontsize=title_size)\n",
    "ax1.set_ylabel('True Positive Rate', fontsize=labelsize)\n",
    "ax1.set_xlabel('False Positive Rate', fontsize=labelsize)\n",
    "\n",
    "ax1.tick_params(labelsize=ticksize)\n",
    "ax1.grid(True)\n",
    "plt.savefig('../../docs/img/roc.png')\n",
    "\n"
   ]
  },
  {
   "cell_type": "code",
   "execution_count": 30,
   "metadata": {
    "scrolled": true
   },
   "outputs": [
    {
     "data": {
      "text/html": [
       "<div>\n",
       "<style scoped>\n",
       "    .dataframe tbody tr th:only-of-type {\n",
       "        vertical-align: middle;\n",
       "    }\n",
       "\n",
       "    .dataframe tbody tr th {\n",
       "        vertical-align: top;\n",
       "    }\n",
       "\n",
       "    .dataframe thead th {\n",
       "        text-align: right;\n",
       "    }\n",
       "</style>\n",
       "<table border=\"1\" class=\"dataframe\">\n",
       "  <thead>\n",
       "    <tr style=\"text-align: right;\">\n",
       "      <th>Predicted</th>\n",
       "      <th>0</th>\n",
       "      <th>1</th>\n",
       "      <th>All</th>\n",
       "    </tr>\n",
       "    <tr>\n",
       "      <th>True</th>\n",
       "      <th></th>\n",
       "      <th></th>\n",
       "      <th></th>\n",
       "    </tr>\n",
       "  </thead>\n",
       "  <tbody>\n",
       "    <tr>\n",
       "      <th>0</th>\n",
       "      <td>19702</td>\n",
       "      <td>11938</td>\n",
       "      <td>31640</td>\n",
       "    </tr>\n",
       "    <tr>\n",
       "      <th>1</th>\n",
       "      <td>128</td>\n",
       "      <td>320</td>\n",
       "      <td>448</td>\n",
       "    </tr>\n",
       "    <tr>\n",
       "      <th>All</th>\n",
       "      <td>19830</td>\n",
       "      <td>12258</td>\n",
       "      <td>32088</td>\n",
       "    </tr>\n",
       "  </tbody>\n",
       "</table>\n",
       "</div>"
      ],
      "text/plain": [
       "Predicted      0      1    All\n",
       "True                          \n",
       "0          19702  11938  31640\n",
       "1            128    320    448\n",
       "All        19830  12258  32088"
      ]
     },
     "metadata": {},
     "output_type": "display_data"
    },
    {
     "name": "stdout",
     "output_type": "stream",
     "text": [
      "[[19702 11938]\n",
      " [  128   320]]\n",
      "              precision    recall  f1-score   support\n",
      "\n",
      "           0       0.99      0.62      0.77     31640\n",
      "           1       0.03      0.71      0.05       448\n",
      "\n",
      "    accuracy                           0.62     32088\n",
      "   macro avg       0.51      0.67      0.41     32088\n",
      "weighted avg       0.98      0.62      0.76     32088\n",
      "\n",
      "F10 Score        : 0.5664411651302182\n"
     ]
    }
   ],
   "source": [
    "thresh = 0.5\n",
    "y_pred_thresh = np.array([1 if pred[1] > thresh else 0 for pred in y_pred_prob])\n",
    "matrix = confusion_matrix(y_test, y_pred_thresh)\n",
    "display(pd.crosstab(y_test, y_pred_thresh, rownames=['True'], colnames=['Predicted'], margins=True))\n",
    "print(matrix)\n",
    "print(classification_report(y_test, y_pred_thresh))\n",
    "print(\"F10 Score        :\", fbeta_score(y_test, y_pred_thresh, 10))"
   ]
  },
  {
   "cell_type": "code",
   "execution_count": 31,
   "metadata": {},
   "outputs": [
    {
     "data": {
      "image/png": "[encoded data removed]",
      "text/plain": [
       "<Figure size 1440x720 with 1 Axes>"
      ]
     },
     "metadata": {
      "needs_background": "light"
     },
     "output_type": "display_data"
    }
   ],
   "source": [
    "fbeta_test = [(fbeta, fbeta_score(y_test, y_pred_thresh, fbeta)) for fbeta in range(1, 21)]\n",
    "fbeta_test_y = [test[0] for test in fbeta_test]\n",
    "fbeta_test_x = [test[1] for test in fbeta_test]\n",
    "plt.figure(figsize=(20,10))\n",
    "plt.plot(fbeta_test_y, fbeta_test_x)\n",
    "plt.grid(True)"
   ]
  },
  {
   "cell_type": "code",
   "execution_count": 33,
   "metadata": {
    "scrolled": true
   },
   "outputs": [],
   "source": [
    "# lets check all f-betas from 1-10 in increments of 2\n",
    "\n",
    "def f_beta_score(thresh, fbeta):\n",
    "    y_pred_thresh = [1 if pred[1] > thresh else 0 for pred in y_pred_prob]\n",
    "    score = fbeta_score(y_test, y_pred_thresh, fbeta)\n",
    "    return score\n",
    "\n",
    "def get_f_beta_scores(fbeta):\n",
    "    fscore_results = []\n",
    "    for a in range(100, 0, -1):\n",
    "        thresh = a/100\n",
    "        score = f_beta_score(thresh, fbeta)\n",
    "        fscore_results.append((thresh, score))\n",
    "    return fscore_results\n",
    "\n",
    "all_fscore_results = [(fbeta, get_f_beta_scores(fbeta)) for fbeta in range(2, 21, 2)]"
   ]
  },
  {
   "cell_type": "code",
   "execution_count": 35,
   "metadata": {},
   "outputs": [
    {
     "data": {
      "image/png": "[encoded data removed]",
      "text/plain": [
       "<Figure size 1080x432 with 1 Axes>"
      ]
     },
     "metadata": {
      "needs_background": "light"
     },
     "output_type": "display_data"
    }
   ],
   "source": [
    "\n",
    "title_size=20\n",
    "labelsize=15\n",
    "ticksize=10\n",
    "\n",
    "thresh_x = [x[0] for x in all_fscore_results[0][1]]\n",
    "\n",
    "plt.figure(figsize=(15,6))\n",
    "for i, fscore_result in enumerate(all_fscore_results):\n",
    "    \n",
    "    fscore = all_fscore_results[i][0]\n",
    "    next_y = [x[1] for x in all_fscore_results[i][1]]\n",
    "\n",
    "    plt.plot(thresh_x, next_y, label='F{0}'.format(fscore))\n",
    "\n",
    "plt.legend()\n",
    "\n",
    "plt.title('F-Beta', fontsize=title_size)\n",
    "plt.xlabel('Threshold', fontsize=labelsize)\n",
    "plt.ylabel('Accuracy', fontsize=labelsize)\n",
    "plt.tick_params(labelsize=ticksize)\n",
    "plt.savefig('../../docs/img/f-beta.png')\n"
   ]
  },
  {
   "cell_type": "markdown",
   "metadata": {},
   "source": [
    "Using the above f10 was decided to be used as our scoring"
   ]
  },
  {
   "cell_type": "code",
   "execution_count": 37,
   "metadata": {},
   "outputs": [
    {
     "name": "stdout",
     "output_type": "stream",
     "text": [
      "GridSearchCV(cv=5, error_score=nan,\n",
      "             estimator=LogisticRegression(C=1.0, class_weight='balanced',\n",
      "                                          dual=False, fit_intercept=True,\n",
      "                                          intercept_scaling=1, l1_ratio=None,\n",
      "                                          max_iter=100, multi_class='auto',\n",
      "                                          n_jobs=None, penalty='l2',\n",
      "                                          random_state=0, solver='lbfgs',\n",
      "                                          tol=0.0001, verbose=0,\n",
      "                                          warm_start=False),\n",
      "             iid='deprecated', n_jobs=-1,\n",
      "             param_grid=[{'C': [0.1, 0.25, 0.5, 0.75, 1, 10, 100, 1000]}],\n",
      "             pre_dispatch='2*n_jobs', refit=True, return_train_score=False,\n",
      "             scoring=make_scorer(fbeta_score, beta=10), verbose=0)\n",
      "0.5905353653484405\n",
      "{'C': 0.1}\n"
     ]
    }
   ],
   "source": [
    "param_grid = [\n",
    "  {'C': [0.1, 0.25, 0.5, 0.75, 1, 10, 100, 1000]}\n",
    " ]\n",
    "\n",
    "# Using balanced since we have a 60:1 of negatives:positives\n",
    "model = LogisticRegression(random_state=0, class_weight=\"balanced\")\n",
    "\n",
    "f10_scorer = make_scorer(fbeta_score, beta=10)\n",
    "\n",
    "grid_search_model = GridSearchCV(model, param_grid=param_grid, scoring=f10_scorer, cv=5, n_jobs=-1)\n",
    "\n",
    "grid_search_model.fit(X_train, y_train)\n",
    "\n",
    "print(grid_search_model)\n",
    "print(grid_search_model.best_score_)\n",
    "print(grid_search_model.best_params_)"
   ]
  },
  {
   "cell_type": "code",
   "execution_count": 38,
   "metadata": {},
   "outputs": [
    {
     "data": {
      "text/html": [
       "<div>\n",
       "<style scoped>\n",
       "    .dataframe tbody tr th:only-of-type {\n",
       "        vertical-align: middle;\n",
       "    }\n",
       "\n",
       "    .dataframe tbody tr th {\n",
       "        vertical-align: top;\n",
       "    }\n",
       "\n",
       "    .dataframe thead th {\n",
       "        text-align: right;\n",
       "    }\n",
       "</style>\n",
       "<table border=\"1\" class=\"dataframe\">\n",
       "  <thead>\n",
       "    <tr style=\"text-align: right;\">\n",
       "      <th>Predicted</th>\n",
       "      <th>0</th>\n",
       "      <th>1</th>\n",
       "      <th>All</th>\n",
       "    </tr>\n",
       "    <tr>\n",
       "      <th>True</th>\n",
       "      <th></th>\n",
       "      <th></th>\n",
       "      <th></th>\n",
       "    </tr>\n",
       "  </thead>\n",
       "  <tbody>\n",
       "    <tr>\n",
       "      <th>0</th>\n",
       "      <td>19702</td>\n",
       "      <td>11938</td>\n",
       "      <td>31640</td>\n",
       "    </tr>\n",
       "    <tr>\n",
       "      <th>1</th>\n",
       "      <td>128</td>\n",
       "      <td>320</td>\n",
       "      <td>448</td>\n",
       "    </tr>\n",
       "    <tr>\n",
       "      <th>All</th>\n",
       "      <td>19830</td>\n",
       "      <td>12258</td>\n",
       "      <td>32088</td>\n",
       "    </tr>\n",
       "  </tbody>\n",
       "</table>\n",
       "</div>"
      ],
      "text/plain": [
       "Predicted      0      1    All\n",
       "True                          \n",
       "0          19702  11938  31640\n",
       "1            128    320    448\n",
       "All        19830  12258  32088"
      ]
     },
     "metadata": {},
     "output_type": "display_data"
    },
    {
     "name": "stdout",
     "output_type": "stream",
     "text": [
      "Training Accuracy: 0.6222289169142549\n",
      "Test Accuracy    : 0.6239715781600599\n",
      "F10 Score        : 0.5664411651302182\n",
      "\n",
      "              precision    recall  f1-score   support\n",
      "\n",
      "           0       0.99      0.62      0.77     31640\n",
      "           1       0.03      0.71      0.05       448\n",
      "\n",
      "    accuracy                           0.62     32088\n",
      "   macro avg       0.51      0.67      0.41     32088\n",
      "weighted avg       0.98      0.62      0.76     32088\n",
      "\n"
     ]
    }
   ],
   "source": [
    "model = LogisticRegression(C=0.25, class_weight='balanced', dual=False,\n",
    "          fit_intercept=True, intercept_scaling=1, max_iter=100,\n",
    "          multi_class='ovr', n_jobs=1, penalty='l2', random_state=0,\n",
    "          solver='liblinear', tol=0.0001, verbose=0, warm_start=False)\n",
    "model.fit(X_train, y_train)\n",
    "y_pred = model.predict(X_test)\n",
    "\n",
    "display(pd.crosstab(y_test, y_pred, rownames=['True'], colnames=['Predicted'], margins=True))\n",
    "print(\"Training Accuracy:\", model.score(X_train, y_train))\n",
    "print(\"Test Accuracy    :\", model.score(X_test, y_test))\n",
    "print(\"F10 Score        :\", fbeta_score(y_test, y_pred, 10))\n",
    "print()\n",
    "print(classification_report(y_test, y_pred))\n"
   ]
  },
  {
   "cell_type": "code",
   "execution_count": 40,
   "metadata": {},
   "outputs": [
    {
     "data": {
      "text/plain": [
       "Index(['access_ADJACENT', 'access_LOCAL', 'access_NETWORK', 'auth_HIGH',\n",
       "       'auth_LOW', 'auth_NONE', 'avail_HIGH', 'avail_LOW', 'avail_NONE',\n",
       "       'comp_HIGH', 'comp_LOW', 'conf_HIGH', 'conf_LOW', 'conf_NONE',\n",
       "       'integ_HIGH', 'integ_LOW', 'integ_NONE'],\n",
       "      dtype='object')"
      ]
     },
     "execution_count": 40,
     "metadata": {},
     "output_type": "execute_result"
    }
   ],
   "source": [
    "X_train.columns"
   ]
  },
  {
   "cell_type": "code",
   "execution_count": 41,
   "metadata": {},
   "outputs": [
    {
     "name": "stdout",
     "output_type": "stream",
     "text": [
      "[[-0.87558787 -0.4217478   0.80743572 -0.6235629   0.01629935  0.11736359\n",
      "  -0.21488296  0.53032826 -0.80534525 -0.35053658 -0.13936337  0.46482133\n",
      "   0.17506591 -1.12978718  0.47258349 -0.81340118 -0.14908225]]\n"
     ]
    }
   ],
   "source": [
    "print(model.coef_)"
   ]
  },
  {
   "cell_type": "code",
   "execution_count": 42,
   "metadata": {},
   "outputs": [
    {
     "name": "stdout",
     "output_type": "stream",
     "text": [
      "[-1.1297871787836962, -0.8755878701504194, -0.8134011846350171, -0.8053452480674879, -0.6235628951987201, -0.42174779612637625, -0.35053658072956745, -0.2148829590104657, -0.1490822514158988, -0.13936336551010162, 0.01629935452501043, 0.1173635944215625, 0.17506590610823305, 0.4648213264295889, 0.4725834898160646, 0.5303282608424451, 0.8074357200454538]\n"
     ]
    }
   ],
   "source": [
    "print(sorted(model.coef_[0]))"
   ]
  },
  {
   "cell_type": "code",
   "execution_count": 43,
   "metadata": {},
   "outputs": [
    {
     "name": "stdout",
     "output_type": "stream",
     "text": [
      "F10 Score Train: 0.59035389558599\n",
      "F10 Score Test : 0.5664411651302182\n"
     ]
    }
   ],
   "source": [
    "y_pred_train = model.predict(X_train)\n",
    "y_pred_test = model.predict(X_test)\n",
    "print(\"F10 Score Train:\", fbeta_score(y_train, y_pred_train, 10))\n",
    "print(\"F10 Score Test :\", fbeta_score(y_test, y_pred_test, 10))\n",
    "\n"
   ]
  }
 ],
 "metadata": {
  "kernelspec": {
   "display_name": "vulnerability-prediction",
   "language": "python",
   "name": "vulnerability-prediction"
  },
  "language_info": {
   "codemirror_mode": {
    "name": "ipython",
    "version": 3
   },
   "file_extension": ".py",
   "mimetype": "text/x-python",
   "name": "python",
   "nbconvert_exporter": "python",
   "pygments_lexer": "ipython3",
   "version": "3.7.6"
  }
 },
 "nbformat": 4,
 "nbformat_minor": 4
}
